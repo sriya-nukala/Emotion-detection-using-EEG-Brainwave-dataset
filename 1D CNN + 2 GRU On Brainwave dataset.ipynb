{
 "cells": [
  {
   "cell_type": "code",
   "execution_count": 1,
   "id": "6884fdb3",
   "metadata": {},
   "outputs": [],
   "source": [
    "import pandas as pd\n",
    "import numpy as np\n",
    "import seaborn as sns\n",
    "import matplotlib.pyplot as plt\n",
    "import keras\n",
    "\n",
    "from sklearn.model_selection import train_test_split\n",
    "from keras.models import Sequential\n",
    "from keras.layers import Dense,Activation,Bidirectional,GRU\n",
    "from keras.layers import Flatten,BatchNormalization\n",
    "from keras.layers import Dropout,Conv1D,MaxPooling1D,LSTM\n",
    "from sklearn.preprocessing import OneHotEncoder\n",
    "from sklearn.metrics import classification_report,confusion_matrix"
   ]
  },
  {
   "cell_type": "code",
   "execution_count": 2,
   "id": "f2b9ba4d",
   "metadata": {},
   "outputs": [],
   "source": [
    "data=pd.read_csv(\"emotions.csv\")"
   ]
  },
  {
   "cell_type": "code",
   "execution_count": 3,
   "id": "7b116a51",
   "metadata": {},
   "outputs": [
    {
     "data": {
      "text/plain": [
       "(2132, 2549)"
      ]
     },
     "execution_count": 3,
     "metadata": {},
     "output_type": "execute_result"
    }
   ],
   "source": [
    "data.shape"
   ]
  },
  {
   "cell_type": "code",
   "execution_count": 4,
   "id": "e09bc36a",
   "metadata": {},
   "outputs": [
    {
     "name": "stdout",
     "output_type": "stream",
     "text": [
      "<class 'pandas.core.frame.DataFrame'>\n",
      "RangeIndex: 2132 entries, 0 to 2131\n",
      "Columns: 2549 entries, # mean_0_a to label\n",
      "dtypes: float64(2548), object(1)\n",
      "memory usage: 41.5+ MB\n"
     ]
    }
   ],
   "source": [
    "data.info()"
   ]
  },
  {
   "cell_type": "code",
   "execution_count": 5,
   "id": "af6af090",
   "metadata": {},
   "outputs": [
    {
     "data": {
      "text/plain": [
       "0"
      ]
     },
     "execution_count": 5,
     "metadata": {},
     "output_type": "execute_result"
    }
   ],
   "source": [
    "data.isna().sum().sum()"
   ]
  },
  {
   "cell_type": "code",
   "execution_count": 6,
   "id": "f088da15",
   "metadata": {},
   "outputs": [
    {
     "data": {
      "text/plain": [
       "NEUTRAL     716\n",
       "NEGATIVE    708\n",
       "POSITIVE    708\n",
       "Name: label, dtype: int64"
      ]
     },
     "execution_count": 6,
     "metadata": {},
     "output_type": "execute_result"
    }
   ],
   "source": [
    "data['label'].value_counts()"
   ]
  },
  {
   "cell_type": "code",
   "execution_count": 7,
   "id": "1f972f49",
   "metadata": {},
   "outputs": [],
   "source": [
    "data_new= pd.get_dummies(data, columns = ['label'])\n"
   ]
  },
  {
   "cell_type": "code",
   "execution_count": 8,
   "id": "e0e98b93",
   "metadata": {},
   "outputs": [
    {
     "data": {
      "text/html": [
       "<div>\n",
       "<style scoped>\n",
       "    .dataframe tbody tr th:only-of-type {\n",
       "        vertical-align: middle;\n",
       "    }\n",
       "\n",
       "    .dataframe tbody tr th {\n",
       "        vertical-align: top;\n",
       "    }\n",
       "\n",
       "    .dataframe thead th {\n",
       "        text-align: right;\n",
       "    }\n",
       "</style>\n",
       "<table border=\"1\" class=\"dataframe\">\n",
       "  <thead>\n",
       "    <tr style=\"text-align: right;\">\n",
       "      <th></th>\n",
       "      <th># mean_0_a</th>\n",
       "      <th>mean_1_a</th>\n",
       "      <th>mean_2_a</th>\n",
       "      <th>mean_3_a</th>\n",
       "      <th>mean_4_a</th>\n",
       "      <th>mean_d_0_a</th>\n",
       "      <th>mean_d_1_a</th>\n",
       "      <th>mean_d_2_a</th>\n",
       "      <th>mean_d_3_a</th>\n",
       "      <th>mean_d_4_a</th>\n",
       "      <th>...</th>\n",
       "      <th>fft_743_b</th>\n",
       "      <th>fft_744_b</th>\n",
       "      <th>fft_745_b</th>\n",
       "      <th>fft_746_b</th>\n",
       "      <th>fft_747_b</th>\n",
       "      <th>fft_748_b</th>\n",
       "      <th>fft_749_b</th>\n",
       "      <th>label_NEGATIVE</th>\n",
       "      <th>label_NEUTRAL</th>\n",
       "      <th>label_POSITIVE</th>\n",
       "    </tr>\n",
       "  </thead>\n",
       "  <tbody>\n",
       "    <tr>\n",
       "      <th>0</th>\n",
       "      <td>4.620</td>\n",
       "      <td>30.3</td>\n",
       "      <td>-356.0</td>\n",
       "      <td>15.60</td>\n",
       "      <td>26.3</td>\n",
       "      <td>1.070</td>\n",
       "      <td>0.411</td>\n",
       "      <td>-15.700</td>\n",
       "      <td>2.060</td>\n",
       "      <td>3.15</td>\n",
       "      <td>...</td>\n",
       "      <td>20.300</td>\n",
       "      <td>23.50</td>\n",
       "      <td>-215.0</td>\n",
       "      <td>280.00</td>\n",
       "      <td>-162.00</td>\n",
       "      <td>-162.00</td>\n",
       "      <td>280.00</td>\n",
       "      <td>1</td>\n",
       "      <td>0</td>\n",
       "      <td>0</td>\n",
       "    </tr>\n",
       "    <tr>\n",
       "      <th>1</th>\n",
       "      <td>28.800</td>\n",
       "      <td>33.1</td>\n",
       "      <td>32.0</td>\n",
       "      <td>25.80</td>\n",
       "      <td>22.8</td>\n",
       "      <td>6.550</td>\n",
       "      <td>1.680</td>\n",
       "      <td>2.880</td>\n",
       "      <td>3.830</td>\n",
       "      <td>-4.82</td>\n",
       "      <td>...</td>\n",
       "      <td>-21.800</td>\n",
       "      <td>-23.30</td>\n",
       "      <td>182.0</td>\n",
       "      <td>2.57</td>\n",
       "      <td>-31.60</td>\n",
       "      <td>-31.60</td>\n",
       "      <td>2.57</td>\n",
       "      <td>0</td>\n",
       "      <td>1</td>\n",
       "      <td>0</td>\n",
       "    </tr>\n",
       "    <tr>\n",
       "      <th>2</th>\n",
       "      <td>8.900</td>\n",
       "      <td>29.4</td>\n",
       "      <td>-416.0</td>\n",
       "      <td>16.70</td>\n",
       "      <td>23.7</td>\n",
       "      <td>79.900</td>\n",
       "      <td>3.360</td>\n",
       "      <td>90.200</td>\n",
       "      <td>89.900</td>\n",
       "      <td>2.03</td>\n",
       "      <td>...</td>\n",
       "      <td>-233.000</td>\n",
       "      <td>462.00</td>\n",
       "      <td>-267.0</td>\n",
       "      <td>281.00</td>\n",
       "      <td>-148.00</td>\n",
       "      <td>-148.00</td>\n",
       "      <td>281.00</td>\n",
       "      <td>0</td>\n",
       "      <td>0</td>\n",
       "      <td>1</td>\n",
       "    </tr>\n",
       "    <tr>\n",
       "      <th>3</th>\n",
       "      <td>14.900</td>\n",
       "      <td>31.6</td>\n",
       "      <td>-143.0</td>\n",
       "      <td>19.80</td>\n",
       "      <td>24.3</td>\n",
       "      <td>-0.584</td>\n",
       "      <td>-0.284</td>\n",
       "      <td>8.820</td>\n",
       "      <td>2.300</td>\n",
       "      <td>-1.97</td>\n",
       "      <td>...</td>\n",
       "      <td>-243.000</td>\n",
       "      <td>299.00</td>\n",
       "      <td>132.0</td>\n",
       "      <td>-12.40</td>\n",
       "      <td>9.53</td>\n",
       "      <td>9.53</td>\n",
       "      <td>-12.40</td>\n",
       "      <td>0</td>\n",
       "      <td>0</td>\n",
       "      <td>1</td>\n",
       "    </tr>\n",
       "    <tr>\n",
       "      <th>4</th>\n",
       "      <td>28.300</td>\n",
       "      <td>31.3</td>\n",
       "      <td>45.2</td>\n",
       "      <td>27.30</td>\n",
       "      <td>24.5</td>\n",
       "      <td>34.800</td>\n",
       "      <td>-5.790</td>\n",
       "      <td>3.060</td>\n",
       "      <td>41.400</td>\n",
       "      <td>5.52</td>\n",
       "      <td>...</td>\n",
       "      <td>38.100</td>\n",
       "      <td>12.00</td>\n",
       "      <td>119.0</td>\n",
       "      <td>-17.60</td>\n",
       "      <td>23.90</td>\n",
       "      <td>23.90</td>\n",
       "      <td>-17.60</td>\n",
       "      <td>0</td>\n",
       "      <td>1</td>\n",
       "      <td>0</td>\n",
       "    </tr>\n",
       "    <tr>\n",
       "      <th>...</th>\n",
       "      <td>...</td>\n",
       "      <td>...</td>\n",
       "      <td>...</td>\n",
       "      <td>...</td>\n",
       "      <td>...</td>\n",
       "      <td>...</td>\n",
       "      <td>...</td>\n",
       "      <td>...</td>\n",
       "      <td>...</td>\n",
       "      <td>...</td>\n",
       "      <td>...</td>\n",
       "      <td>...</td>\n",
       "      <td>...</td>\n",
       "      <td>...</td>\n",
       "      <td>...</td>\n",
       "      <td>...</td>\n",
       "      <td>...</td>\n",
       "      <td>...</td>\n",
       "      <td>...</td>\n",
       "      <td>...</td>\n",
       "      <td>...</td>\n",
       "    </tr>\n",
       "    <tr>\n",
       "      <th>2127</th>\n",
       "      <td>32.400</td>\n",
       "      <td>32.2</td>\n",
       "      <td>32.2</td>\n",
       "      <td>30.80</td>\n",
       "      <td>23.4</td>\n",
       "      <td>1.640</td>\n",
       "      <td>-2.030</td>\n",
       "      <td>0.647</td>\n",
       "      <td>-0.121</td>\n",
       "      <td>-1.10</td>\n",
       "      <td>...</td>\n",
       "      <td>0.218</td>\n",
       "      <td>-21.70</td>\n",
       "      <td>95.2</td>\n",
       "      <td>-19.90</td>\n",
       "      <td>47.20</td>\n",
       "      <td>47.20</td>\n",
       "      <td>-19.90</td>\n",
       "      <td>0</td>\n",
       "      <td>1</td>\n",
       "      <td>0</td>\n",
       "    </tr>\n",
       "    <tr>\n",
       "      <th>2128</th>\n",
       "      <td>16.300</td>\n",
       "      <td>31.3</td>\n",
       "      <td>-284.0</td>\n",
       "      <td>14.30</td>\n",
       "      <td>23.9</td>\n",
       "      <td>4.200</td>\n",
       "      <td>1.090</td>\n",
       "      <td>4.460</td>\n",
       "      <td>4.720</td>\n",
       "      <td>6.63</td>\n",
       "      <td>...</td>\n",
       "      <td>-324.000</td>\n",
       "      <td>594.00</td>\n",
       "      <td>-35.5</td>\n",
       "      <td>142.00</td>\n",
       "      <td>-59.80</td>\n",
       "      <td>-59.80</td>\n",
       "      <td>142.00</td>\n",
       "      <td>0</td>\n",
       "      <td>0</td>\n",
       "      <td>1</td>\n",
       "    </tr>\n",
       "    <tr>\n",
       "      <th>2129</th>\n",
       "      <td>-0.547</td>\n",
       "      <td>28.3</td>\n",
       "      <td>-259.0</td>\n",
       "      <td>15.80</td>\n",
       "      <td>26.7</td>\n",
       "      <td>9.080</td>\n",
       "      <td>6.900</td>\n",
       "      <td>12.700</td>\n",
       "      <td>2.030</td>\n",
       "      <td>4.64</td>\n",
       "      <td>...</td>\n",
       "      <td>-160.000</td>\n",
       "      <td>370.00</td>\n",
       "      <td>408.0</td>\n",
       "      <td>-169.00</td>\n",
       "      <td>-10.50</td>\n",
       "      <td>-10.50</td>\n",
       "      <td>-169.00</td>\n",
       "      <td>1</td>\n",
       "      <td>0</td>\n",
       "      <td>0</td>\n",
       "    </tr>\n",
       "    <tr>\n",
       "      <th>2130</th>\n",
       "      <td>16.800</td>\n",
       "      <td>19.9</td>\n",
       "      <td>-288.0</td>\n",
       "      <td>8.34</td>\n",
       "      <td>26.0</td>\n",
       "      <td>2.460</td>\n",
       "      <td>1.580</td>\n",
       "      <td>-16.000</td>\n",
       "      <td>1.690</td>\n",
       "      <td>4.74</td>\n",
       "      <td>...</td>\n",
       "      <td>-27.600</td>\n",
       "      <td>124.00</td>\n",
       "      <td>-656.0</td>\n",
       "      <td>552.00</td>\n",
       "      <td>-271.00</td>\n",
       "      <td>-271.00</td>\n",
       "      <td>552.00</td>\n",
       "      <td>1</td>\n",
       "      <td>0</td>\n",
       "      <td>0</td>\n",
       "    </tr>\n",
       "    <tr>\n",
       "      <th>2131</th>\n",
       "      <td>27.000</td>\n",
       "      <td>32.0</td>\n",
       "      <td>31.8</td>\n",
       "      <td>25.00</td>\n",
       "      <td>28.9</td>\n",
       "      <td>4.990</td>\n",
       "      <td>1.950</td>\n",
       "      <td>6.210</td>\n",
       "      <td>3.490</td>\n",
       "      <td>-3.51</td>\n",
       "      <td>...</td>\n",
       "      <td>1.810</td>\n",
       "      <td>1.95</td>\n",
       "      <td>110.0</td>\n",
       "      <td>-6.71</td>\n",
       "      <td>22.80</td>\n",
       "      <td>22.80</td>\n",
       "      <td>-6.71</td>\n",
       "      <td>0</td>\n",
       "      <td>1</td>\n",
       "      <td>0</td>\n",
       "    </tr>\n",
       "  </tbody>\n",
       "</table>\n",
       "<p>2132 rows × 2551 columns</p>\n",
       "</div>"
      ],
      "text/plain": [
       "      # mean_0_a  mean_1_a  mean_2_a  mean_3_a  mean_4_a  mean_d_0_a  \\\n",
       "0          4.620      30.3    -356.0     15.60      26.3       1.070   \n",
       "1         28.800      33.1      32.0     25.80      22.8       6.550   \n",
       "2          8.900      29.4    -416.0     16.70      23.7      79.900   \n",
       "3         14.900      31.6    -143.0     19.80      24.3      -0.584   \n",
       "4         28.300      31.3      45.2     27.30      24.5      34.800   \n",
       "...          ...       ...       ...       ...       ...         ...   \n",
       "2127      32.400      32.2      32.2     30.80      23.4       1.640   \n",
       "2128      16.300      31.3    -284.0     14.30      23.9       4.200   \n",
       "2129      -0.547      28.3    -259.0     15.80      26.7       9.080   \n",
       "2130      16.800      19.9    -288.0      8.34      26.0       2.460   \n",
       "2131      27.000      32.0      31.8     25.00      28.9       4.990   \n",
       "\n",
       "      mean_d_1_a  mean_d_2_a  mean_d_3_a  mean_d_4_a  ...  fft_743_b  \\\n",
       "0          0.411     -15.700       2.060        3.15  ...     20.300   \n",
       "1          1.680       2.880       3.830       -4.82  ...    -21.800   \n",
       "2          3.360      90.200      89.900        2.03  ...   -233.000   \n",
       "3         -0.284       8.820       2.300       -1.97  ...   -243.000   \n",
       "4         -5.790       3.060      41.400        5.52  ...     38.100   \n",
       "...          ...         ...         ...         ...  ...        ...   \n",
       "2127      -2.030       0.647      -0.121       -1.10  ...      0.218   \n",
       "2128       1.090       4.460       4.720        6.63  ...   -324.000   \n",
       "2129       6.900      12.700       2.030        4.64  ...   -160.000   \n",
       "2130       1.580     -16.000       1.690        4.74  ...    -27.600   \n",
       "2131       1.950       6.210       3.490       -3.51  ...      1.810   \n",
       "\n",
       "      fft_744_b  fft_745_b  fft_746_b  fft_747_b  fft_748_b  fft_749_b  \\\n",
       "0         23.50     -215.0     280.00    -162.00    -162.00     280.00   \n",
       "1        -23.30      182.0       2.57     -31.60     -31.60       2.57   \n",
       "2        462.00     -267.0     281.00    -148.00    -148.00     281.00   \n",
       "3        299.00      132.0     -12.40       9.53       9.53     -12.40   \n",
       "4         12.00      119.0     -17.60      23.90      23.90     -17.60   \n",
       "...         ...        ...        ...        ...        ...        ...   \n",
       "2127     -21.70       95.2     -19.90      47.20      47.20     -19.90   \n",
       "2128     594.00      -35.5     142.00     -59.80     -59.80     142.00   \n",
       "2129     370.00      408.0    -169.00     -10.50     -10.50    -169.00   \n",
       "2130     124.00     -656.0     552.00    -271.00    -271.00     552.00   \n",
       "2131       1.95      110.0      -6.71      22.80      22.80      -6.71   \n",
       "\n",
       "      label_NEGATIVE  label_NEUTRAL  label_POSITIVE  \n",
       "0                  1              0               0  \n",
       "1                  0              1               0  \n",
       "2                  0              0               1  \n",
       "3                  0              0               1  \n",
       "4                  0              1               0  \n",
       "...              ...            ...             ...  \n",
       "2127               0              1               0  \n",
       "2128               0              0               1  \n",
       "2129               1              0               0  \n",
       "2130               1              0               0  \n",
       "2131               0              1               0  \n",
       "\n",
       "[2132 rows x 2551 columns]"
      ]
     },
     "execution_count": 8,
     "metadata": {},
     "output_type": "execute_result"
    }
   ],
   "source": [
    "data_new"
   ]
  },
  {
   "cell_type": "code",
   "execution_count": 9,
   "id": "039ac115",
   "metadata": {},
   "outputs": [
    {
     "data": {
      "text/html": [
       "<div>\n",
       "<style scoped>\n",
       "    .dataframe tbody tr th:only-of-type {\n",
       "        vertical-align: middle;\n",
       "    }\n",
       "\n",
       "    .dataframe tbody tr th {\n",
       "        vertical-align: top;\n",
       "    }\n",
       "\n",
       "    .dataframe thead th {\n",
       "        text-align: right;\n",
       "    }\n",
       "</style>\n",
       "<table border=\"1\" class=\"dataframe\">\n",
       "  <thead>\n",
       "    <tr style=\"text-align: right;\">\n",
       "      <th></th>\n",
       "      <th># mean_0_a</th>\n",
       "      <th>mean_1_a</th>\n",
       "      <th>mean_2_a</th>\n",
       "      <th>mean_3_a</th>\n",
       "      <th>mean_4_a</th>\n",
       "      <th>mean_d_0_a</th>\n",
       "      <th>mean_d_1_a</th>\n",
       "      <th>mean_d_2_a</th>\n",
       "      <th>mean_d_3_a</th>\n",
       "      <th>mean_d_4_a</th>\n",
       "      <th>...</th>\n",
       "      <th>fft_740_b</th>\n",
       "      <th>fft_741_b</th>\n",
       "      <th>fft_742_b</th>\n",
       "      <th>fft_743_b</th>\n",
       "      <th>fft_744_b</th>\n",
       "      <th>fft_745_b</th>\n",
       "      <th>fft_746_b</th>\n",
       "      <th>fft_747_b</th>\n",
       "      <th>fft_748_b</th>\n",
       "      <th>fft_749_b</th>\n",
       "    </tr>\n",
       "  </thead>\n",
       "  <tbody>\n",
       "    <tr>\n",
       "      <th>0</th>\n",
       "      <td>4.62</td>\n",
       "      <td>30.3</td>\n",
       "      <td>-356.0</td>\n",
       "      <td>15.6</td>\n",
       "      <td>26.3</td>\n",
       "      <td>1.070</td>\n",
       "      <td>0.411</td>\n",
       "      <td>-15.70</td>\n",
       "      <td>2.06</td>\n",
       "      <td>3.15</td>\n",
       "      <td>...</td>\n",
       "      <td>74.3</td>\n",
       "      <td>23.5</td>\n",
       "      <td>20.3</td>\n",
       "      <td>20.3</td>\n",
       "      <td>23.5</td>\n",
       "      <td>-215.0</td>\n",
       "      <td>280.00</td>\n",
       "      <td>-162.00</td>\n",
       "      <td>-162.00</td>\n",
       "      <td>280.00</td>\n",
       "    </tr>\n",
       "    <tr>\n",
       "      <th>1</th>\n",
       "      <td>28.80</td>\n",
       "      <td>33.1</td>\n",
       "      <td>32.0</td>\n",
       "      <td>25.8</td>\n",
       "      <td>22.8</td>\n",
       "      <td>6.550</td>\n",
       "      <td>1.680</td>\n",
       "      <td>2.88</td>\n",
       "      <td>3.83</td>\n",
       "      <td>-4.82</td>\n",
       "      <td>...</td>\n",
       "      <td>130.0</td>\n",
       "      <td>-23.3</td>\n",
       "      <td>-21.8</td>\n",
       "      <td>-21.8</td>\n",
       "      <td>-23.3</td>\n",
       "      <td>182.0</td>\n",
       "      <td>2.57</td>\n",
       "      <td>-31.60</td>\n",
       "      <td>-31.60</td>\n",
       "      <td>2.57</td>\n",
       "    </tr>\n",
       "    <tr>\n",
       "      <th>2</th>\n",
       "      <td>8.90</td>\n",
       "      <td>29.4</td>\n",
       "      <td>-416.0</td>\n",
       "      <td>16.7</td>\n",
       "      <td>23.7</td>\n",
       "      <td>79.900</td>\n",
       "      <td>3.360</td>\n",
       "      <td>90.20</td>\n",
       "      <td>89.90</td>\n",
       "      <td>2.03</td>\n",
       "      <td>...</td>\n",
       "      <td>-534.0</td>\n",
       "      <td>462.0</td>\n",
       "      <td>-233.0</td>\n",
       "      <td>-233.0</td>\n",
       "      <td>462.0</td>\n",
       "      <td>-267.0</td>\n",
       "      <td>281.00</td>\n",
       "      <td>-148.00</td>\n",
       "      <td>-148.00</td>\n",
       "      <td>281.00</td>\n",
       "    </tr>\n",
       "    <tr>\n",
       "      <th>3</th>\n",
       "      <td>14.90</td>\n",
       "      <td>31.6</td>\n",
       "      <td>-143.0</td>\n",
       "      <td>19.8</td>\n",
       "      <td>24.3</td>\n",
       "      <td>-0.584</td>\n",
       "      <td>-0.284</td>\n",
       "      <td>8.82</td>\n",
       "      <td>2.30</td>\n",
       "      <td>-1.97</td>\n",
       "      <td>...</td>\n",
       "      <td>-183.0</td>\n",
       "      <td>299.0</td>\n",
       "      <td>-243.0</td>\n",
       "      <td>-243.0</td>\n",
       "      <td>299.0</td>\n",
       "      <td>132.0</td>\n",
       "      <td>-12.40</td>\n",
       "      <td>9.53</td>\n",
       "      <td>9.53</td>\n",
       "      <td>-12.40</td>\n",
       "    </tr>\n",
       "    <tr>\n",
       "      <th>4</th>\n",
       "      <td>28.30</td>\n",
       "      <td>31.3</td>\n",
       "      <td>45.2</td>\n",
       "      <td>27.3</td>\n",
       "      <td>24.5</td>\n",
       "      <td>34.800</td>\n",
       "      <td>-5.790</td>\n",
       "      <td>3.06</td>\n",
       "      <td>41.40</td>\n",
       "      <td>5.52</td>\n",
       "      <td>...</td>\n",
       "      <td>114.0</td>\n",
       "      <td>12.0</td>\n",
       "      <td>38.1</td>\n",
       "      <td>38.1</td>\n",
       "      <td>12.0</td>\n",
       "      <td>119.0</td>\n",
       "      <td>-17.60</td>\n",
       "      <td>23.90</td>\n",
       "      <td>23.90</td>\n",
       "      <td>-17.60</td>\n",
       "    </tr>\n",
       "  </tbody>\n",
       "</table>\n",
       "<p>5 rows × 2548 columns</p>\n",
       "</div>"
      ],
      "text/plain": [
       "   # mean_0_a  mean_1_a  mean_2_a  mean_3_a  mean_4_a  mean_d_0_a  mean_d_1_a  \\\n",
       "0        4.62      30.3    -356.0      15.6      26.3       1.070       0.411   \n",
       "1       28.80      33.1      32.0      25.8      22.8       6.550       1.680   \n",
       "2        8.90      29.4    -416.0      16.7      23.7      79.900       3.360   \n",
       "3       14.90      31.6    -143.0      19.8      24.3      -0.584      -0.284   \n",
       "4       28.30      31.3      45.2      27.3      24.5      34.800      -5.790   \n",
       "\n",
       "   mean_d_2_a  mean_d_3_a  mean_d_4_a  ...  fft_740_b  fft_741_b  fft_742_b  \\\n",
       "0      -15.70        2.06        3.15  ...       74.3       23.5       20.3   \n",
       "1        2.88        3.83       -4.82  ...      130.0      -23.3      -21.8   \n",
       "2       90.20       89.90        2.03  ...     -534.0      462.0     -233.0   \n",
       "3        8.82        2.30       -1.97  ...     -183.0      299.0     -243.0   \n",
       "4        3.06       41.40        5.52  ...      114.0       12.0       38.1   \n",
       "\n",
       "   fft_743_b  fft_744_b  fft_745_b  fft_746_b  fft_747_b  fft_748_b  fft_749_b  \n",
       "0       20.3       23.5     -215.0     280.00    -162.00    -162.00     280.00  \n",
       "1      -21.8      -23.3      182.0       2.57     -31.60     -31.60       2.57  \n",
       "2     -233.0      462.0     -267.0     281.00    -148.00    -148.00     281.00  \n",
       "3     -243.0      299.0      132.0     -12.40       9.53       9.53     -12.40  \n",
       "4       38.1       12.0      119.0     -17.60      23.90      23.90     -17.60  \n",
       "\n",
       "[5 rows x 2548 columns]"
      ]
     },
     "execution_count": 9,
     "metadata": {},
     "output_type": "execute_result"
    }
   ],
   "source": [
    "X=data_new.loc[:,'# mean_0_a':'fft_749_b']\n",
    "X.head()"
   ]
  },
  {
   "cell_type": "code",
   "execution_count": 10,
   "id": "3c62093c",
   "metadata": {},
   "outputs": [
    {
     "data": {
      "text/html": [
       "<div>\n",
       "<style scoped>\n",
       "    .dataframe tbody tr th:only-of-type {\n",
       "        vertical-align: middle;\n",
       "    }\n",
       "\n",
       "    .dataframe tbody tr th {\n",
       "        vertical-align: top;\n",
       "    }\n",
       "\n",
       "    .dataframe thead th {\n",
       "        text-align: right;\n",
       "    }\n",
       "</style>\n",
       "<table border=\"1\" class=\"dataframe\">\n",
       "  <thead>\n",
       "    <tr style=\"text-align: right;\">\n",
       "      <th></th>\n",
       "      <th>label_NEGATIVE</th>\n",
       "      <th>label_NEUTRAL</th>\n",
       "      <th>label_POSITIVE</th>\n",
       "    </tr>\n",
       "  </thead>\n",
       "  <tbody>\n",
       "    <tr>\n",
       "      <th>0</th>\n",
       "      <td>1</td>\n",
       "      <td>0</td>\n",
       "      <td>0</td>\n",
       "    </tr>\n",
       "    <tr>\n",
       "      <th>1</th>\n",
       "      <td>0</td>\n",
       "      <td>1</td>\n",
       "      <td>0</td>\n",
       "    </tr>\n",
       "    <tr>\n",
       "      <th>2</th>\n",
       "      <td>0</td>\n",
       "      <td>0</td>\n",
       "      <td>1</td>\n",
       "    </tr>\n",
       "    <tr>\n",
       "      <th>3</th>\n",
       "      <td>0</td>\n",
       "      <td>0</td>\n",
       "      <td>1</td>\n",
       "    </tr>\n",
       "    <tr>\n",
       "      <th>4</th>\n",
       "      <td>0</td>\n",
       "      <td>1</td>\n",
       "      <td>0</td>\n",
       "    </tr>\n",
       "  </tbody>\n",
       "</table>\n",
       "</div>"
      ],
      "text/plain": [
       "   label_NEGATIVE  label_NEUTRAL  label_POSITIVE\n",
       "0               1              0               0\n",
       "1               0              1               0\n",
       "2               0              0               1\n",
       "3               0              0               1\n",
       "4               0              1               0"
      ]
     },
     "execution_count": 10,
     "metadata": {},
     "output_type": "execute_result"
    }
   ],
   "source": [
    "y=data_new.loc[:,'label_NEGATIVE':'label_POSITIVE']\n",
    "y.head()"
   ]
  },
  {
   "cell_type": "code",
   "execution_count": 11,
   "id": "7b27c346",
   "metadata": {},
   "outputs": [],
   "source": [
    "X=X.values\n",
    "y=y.values"
   ]
  },
  {
   "cell_type": "code",
   "execution_count": 12,
   "id": "7fc2cf24",
   "metadata": {},
   "outputs": [],
   "source": [
    "X_train,X_test,y_train,y_test=train_test_split(X,y,test_size=0.25,random_state=42)"
   ]
  },
  {
   "cell_type": "code",
   "execution_count": 13,
   "id": "012151c8",
   "metadata": {},
   "outputs": [],
   "source": [
    "X_train, X_val, y_train, y_val = train_test_split(X_train, y_train, test_size=0.2, random_state=1)"
   ]
  },
  {
   "cell_type": "code",
   "execution_count": 14,
   "id": "6318ffc4",
   "metadata": {},
   "outputs": [
    {
     "data": {
      "text/plain": [
       "(1279, 2548)"
      ]
     },
     "execution_count": 14,
     "metadata": {},
     "output_type": "execute_result"
    }
   ],
   "source": [
    "X_train.shape"
   ]
  },
  {
   "cell_type": "code",
   "execution_count": 15,
   "id": "2089f733",
   "metadata": {},
   "outputs": [
    {
     "name": "stdout",
     "output_type": "stream",
     "text": [
      "Model: \"sequential\"\n",
      "_________________________________________________________________\n",
      " Layer (type)                Output Shape              Param #   \n",
      "=================================================================\n",
      " conv1d (Conv1D)             (None, 2544, 64)          384       \n",
      "                                                                 \n",
      " conv1d_1 (Conv1D)           (None, 2540, 32)          10272     \n",
      "                                                                 \n",
      " max_pooling1d (MaxPooling1D  (None, 1270, 32)         0         \n",
      " )                                                               \n",
      "                                                                 \n",
      " conv1d_2 (Conv1D)           (None, 1268, 32)          3104      \n",
      "                                                                 \n",
      " conv1d_3 (Conv1D)           (None, 1266, 32)          3104      \n",
      "                                                                 \n",
      " max_pooling1d_1 (MaxPooling  (None, 633, 32)          0         \n",
      " 1D)                                                             \n",
      "                                                                 \n",
      " gru (GRU)                   (None, 633, 64)           18816     \n",
      "                                                                 \n",
      " dropout (Dropout)           (None, 633, 64)           0         \n",
      "                                                                 \n",
      " gru_1 (GRU)                 (None, 32)                9408      \n",
      "                                                                 \n",
      " dropout_1 (Dropout)         (None, 32)                0         \n",
      "                                                                 \n",
      " dense (Dense)               (None, 32)                1056      \n",
      "                                                                 \n",
      " dense_1 (Dense)             (None, 16)                528       \n",
      "                                                                 \n",
      " dropout_2 (Dropout)         (None, 16)                0         \n",
      "                                                                 \n",
      " activation (Activation)     (None, 16)                0         \n",
      "                                                                 \n",
      " dense_2 (Dense)             (None, 3)                 51        \n",
      "                                                                 \n",
      "=================================================================\n",
      "Total params: 46,723\n",
      "Trainable params: 46,723\n",
      "Non-trainable params: 0\n",
      "_________________________________________________________________\n"
     ]
    }
   ],
   "source": [
    "model = Sequential()\n",
    "input_shape=(X_train.shape[1], 1)\n",
    "\n",
    "model.add(Conv1D(64, kernel_size=5,activation='relu', input_shape=input_shape))\n",
    "model.add(Conv1D(32,kernel_size=5, activation='relu'))\n",
    "model.add(MaxPooling1D())\n",
    "model.add(Conv1D(32,kernel_size=3, activation='relu'))\n",
    "model.add(Conv1D(32,kernel_size=3, activation='relu'))\n",
    "model.add(MaxPooling1D())\n",
    "\n",
    "model.add(GRU(64,activation=\"sigmoid\",return_sequences=True))\n",
    "model.add(Dropout(0.5))\n",
    "model.add(GRU(32,activation=\"sigmoid\",return_sequences=False))\n",
    "model.add(Dropout(0.5)) \n",
    "\n",
    "model.add(Dense(32, activation='relu'))\n",
    "model.add(Dense(16, activation='relu'))\n",
    "model.add(Dropout(0.5))\n",
    "model.add(Activation('relu'))\n",
    "\n",
    "model.add(Dense(3, activation='softmax'))\n",
    "\n",
    "model.summary()\n"
   ]
  },
  {
   "cell_type": "code",
   "execution_count": 16,
   "id": "d240a4a4",
   "metadata": {},
   "outputs": [],
   "source": [
    "model.compile(loss=keras.losses.categorical_crossentropy,\n",
    "              optimizer='adam',\n",
    "              metrics=['accuracy'])"
   ]
  },
  {
   "cell_type": "code",
   "execution_count": 17,
   "id": "9daf3f24",
   "metadata": {
    "scrolled": true
   },
   "outputs": [
    {
     "name": "stdout",
     "output_type": "stream",
     "text": [
      "Epoch 1/35\n",
      "26/26 [==============================] - 16s 564ms/step - loss: 1.1130 - accuracy: 0.3503 - val_loss: 1.0765 - val_accuracy: 0.7786\n",
      "Epoch 2/35\n",
      "26/26 [==============================] - 14s 533ms/step - loss: 1.0944 - accuracy: 0.3612 - val_loss: 1.0641 - val_accuracy: 0.8105\n",
      "Epoch 3/35\n",
      "26/26 [==============================] - 14s 531ms/step - loss: 1.0704 - accuracy: 0.4113 - val_loss: 1.0032 - val_accuracy: 0.7017\n",
      "Epoch 4/35\n",
      "26/26 [==============================] - 13s 520ms/step - loss: 0.9967 - accuracy: 0.4644 - val_loss: 0.8551 - val_accuracy: 0.6660\n",
      "Epoch 5/35\n",
      "26/26 [==============================] - 14s 519ms/step - loss: 0.8838 - accuracy: 0.5434 - val_loss: 0.6784 - val_accuracy: 0.6979\n",
      "Epoch 6/35\n",
      "26/26 [==============================] - 13s 516ms/step - loss: 0.7644 - accuracy: 0.6349 - val_loss: 0.5234 - val_accuracy: 0.6867\n",
      "Epoch 7/35\n",
      "26/26 [==============================] - 14s 529ms/step - loss: 0.6428 - accuracy: 0.6677 - val_loss: 0.4751 - val_accuracy: 0.7786\n",
      "Epoch 8/35\n",
      "26/26 [==============================] - 14s 522ms/step - loss: 0.6008 - accuracy: 0.6974 - val_loss: 0.4303 - val_accuracy: 0.8705\n",
      "Epoch 9/35\n",
      "26/26 [==============================] - 14s 528ms/step - loss: 0.5541 - accuracy: 0.7052 - val_loss: 0.3688 - val_accuracy: 0.9193\n",
      "Epoch 10/35\n",
      "26/26 [==============================] - 14s 531ms/step - loss: 0.5122 - accuracy: 0.7631 - val_loss: 0.3235 - val_accuracy: 0.9231\n",
      "Epoch 11/35\n",
      "26/26 [==============================] - 14s 547ms/step - loss: 0.4630 - accuracy: 0.7975 - val_loss: 0.2806 - val_accuracy: 0.9287\n",
      "Epoch 12/35\n",
      "26/26 [==============================] - 14s 525ms/step - loss: 0.4244 - accuracy: 0.8045 - val_loss: 0.2630 - val_accuracy: 0.9212\n",
      "Epoch 13/35\n",
      "26/26 [==============================] - 15s 571ms/step - loss: 0.3951 - accuracy: 0.8077 - val_loss: 0.2283 - val_accuracy: 0.9250\n",
      "Epoch 14/35\n",
      "26/26 [==============================] - 13s 519ms/step - loss: 0.3700 - accuracy: 0.8397 - val_loss: 0.2073 - val_accuracy: 0.9287\n",
      "Epoch 15/35\n",
      "26/26 [==============================] - 13s 501ms/step - loss: 0.3417 - accuracy: 0.8475 - val_loss: 0.1990 - val_accuracy: 0.9287\n",
      "Epoch 16/35\n",
      "26/26 [==============================] - 14s 535ms/step - loss: 0.3344 - accuracy: 0.8546 - val_loss: 0.1982 - val_accuracy: 0.9362\n",
      "Epoch 17/35\n",
      "26/26 [==============================] - 15s 565ms/step - loss: 0.3147 - accuracy: 0.8655 - val_loss: 0.1925 - val_accuracy: 0.9343\n",
      "Epoch 18/35\n",
      "26/26 [==============================] - 14s 539ms/step - loss: 0.3040 - accuracy: 0.8812 - val_loss: 0.1833 - val_accuracy: 0.9287\n",
      "Epoch 19/35\n",
      "26/26 [==============================] - 14s 521ms/step - loss: 0.3077 - accuracy: 0.8858 - val_loss: 0.2030 - val_accuracy: 0.9343\n",
      "Epoch 20/35\n",
      "26/26 [==============================] - 14s 525ms/step - loss: 0.2805 - accuracy: 0.8976 - val_loss: 0.1877 - val_accuracy: 0.9362\n",
      "Epoch 21/35\n",
      "26/26 [==============================] - 14s 522ms/step - loss: 0.2858 - accuracy: 0.8905 - val_loss: 0.1995 - val_accuracy: 0.9212\n",
      "Epoch 22/35\n",
      "26/26 [==============================] - 14s 537ms/step - loss: 0.2808 - accuracy: 0.8851 - val_loss: 0.1829 - val_accuracy: 0.9400\n",
      "Epoch 23/35\n",
      "26/26 [==============================] - 14s 541ms/step - loss: 0.2718 - accuracy: 0.8984 - val_loss: 0.1858 - val_accuracy: 0.9381\n",
      "Epoch 24/35\n",
      "26/26 [==============================] - 13s 520ms/step - loss: 0.2832 - accuracy: 0.8929 - val_loss: 0.2078 - val_accuracy: 0.9343\n",
      "Epoch 25/35\n",
      "26/26 [==============================] - 14s 521ms/step - loss: 0.2570 - accuracy: 0.8913 - val_loss: 0.1798 - val_accuracy: 0.9343\n",
      "Epoch 26/35\n",
      "26/26 [==============================] - 13s 514ms/step - loss: 0.2305 - accuracy: 0.9171 - val_loss: 0.1891 - val_accuracy: 0.9362\n",
      "Epoch 27/35\n",
      "26/26 [==============================] - 13s 514ms/step - loss: 0.2456 - accuracy: 0.9085 - val_loss: 0.1704 - val_accuracy: 0.9381\n",
      "Epoch 28/35\n",
      "26/26 [==============================] - 14s 558ms/step - loss: 0.2353 - accuracy: 0.9038 - val_loss: 0.2312 - val_accuracy: 0.9250\n",
      "Epoch 29/35\n",
      "26/26 [==============================] - 16s 625ms/step - loss: 0.2945 - accuracy: 0.8921 - val_loss: 0.1868 - val_accuracy: 0.9343\n",
      "Epoch 30/35\n",
      "26/26 [==============================] - 16s 612ms/step - loss: 0.2363 - accuracy: 0.9281 - val_loss: 0.1912 - val_accuracy: 0.9400\n",
      "Epoch 31/35\n",
      "26/26 [==============================] - 17s 646ms/step - loss: 0.2318 - accuracy: 0.9156 - val_loss: 0.1806 - val_accuracy: 0.9362\n",
      "Epoch 32/35\n",
      "26/26 [==============================] - 17s 661ms/step - loss: 0.2265 - accuracy: 0.9163 - val_loss: 0.1859 - val_accuracy: 0.9343\n",
      "Epoch 33/35\n",
      "26/26 [==============================] - 17s 646ms/step - loss: 0.2517 - accuracy: 0.9062 - val_loss: 0.1864 - val_accuracy: 0.9400\n",
      "Epoch 34/35\n",
      "26/26 [==============================] - 16s 629ms/step - loss: 0.2464 - accuracy: 0.9015 - val_loss: 0.1802 - val_accuracy: 0.9362\n",
      "Epoch 35/35\n",
      "26/26 [==============================] - 17s 650ms/step - loss: 0.2724 - accuracy: 0.8968 - val_loss: 0.1940 - val_accuracy: 0.9343\n"
     ]
    }
   ],
   "source": [
    "history=model.fit(X_train, y_train,\n",
    "          batch_size=50,\n",
    "          epochs=35,  \n",
    "          verbose=1,validation_data=(X_test,y_test))"
   ]
  },
  {
   "cell_type": "code",
   "execution_count": 18,
   "id": "a218aaab",
   "metadata": {
    "scrolled": false
   },
   "outputs": [
    {
     "name": "stdout",
     "output_type": "stream",
     "text": [
      "Train Accuracy: 94.214%\n"
     ]
    }
   ],
   "source": [
    "train_acc = model.evaluate(X_train, y_train, verbose=0)[1]\n",
    "print(\"Train Accuracy: {:.3f}%\".format(train_acc * 100))"
   ]
  },
  {
   "cell_type": "code",
   "execution_count": 19,
   "id": "7e559d1c",
   "metadata": {
    "scrolled": false
   },
   "outputs": [
    {
     "name": "stdout",
     "output_type": "stream",
     "text": [
      "Test Accuracy: 93.433%\n"
     ]
    }
   ],
   "source": [
    "test_acc = model.evaluate(X_test, y_test, verbose=0)[1]\n",
    "print(\"Test Accuracy: {:.3f}%\".format(test_acc * 100))"
   ]
  },
  {
   "cell_type": "code",
   "execution_count": 20,
   "id": "8fe8ab4a",
   "metadata": {
    "scrolled": false
   },
   "outputs": [
    {
     "name": "stdout",
     "output_type": "stream",
     "text": [
      "Validation Accuracy: 93.437%\n"
     ]
    }
   ],
   "source": [
    "val_acc = model.evaluate(X_val, y_val, verbose=0)[1]\n",
    "print(\"Validation Accuracy: {:.3f}%\".format(val_acc * 100))"
   ]
  },
  {
   "cell_type": "code",
   "execution_count": 21,
   "id": "dc8bd2b1",
   "metadata": {},
   "outputs": [
    {
     "data": {
      "image/png": "[encoded data removed]",
      "text/plain": [
       "<Figure size 432x288 with 1 Axes>"
      ]
     },
     "metadata": {
      "needs_background": "light"
     },
     "output_type": "display_data"
    }
   ],
   "source": [
    "\n",
    "plt.plot(history.history['accuracy'])\n",
    "\n",
    "plt.plot(history.history['val_accuracy'])\n",
    "\n",
    "plt.title('model accuracy')\n",
    "\n",
    "plt.ylabel('accuracy')\n",
    "\n",
    "plt.xlabel('epoch')\n",
    "\n",
    "plt.legend(['test', 'validation'], loc='upper left')\n",
    "\n",
    "plt.show()"
   ]
  },
  {
   "cell_type": "code",
   "execution_count": 22,
   "id": "f4f7d5a9",
   "metadata": {},
   "outputs": [],
   "source": [
    "y_pred=model.predict(X_test)"
   ]
  },
  {
   "cell_type": "code",
   "execution_count": 23,
   "id": "100289a7",
   "metadata": {
    "scrolled": true
   },
   "outputs": [
    {
     "data": {
      "text/plain": [
       "array([[1.3530492e-11, 1.0000000e+00, 1.7878341e-08],\n",
       "       [1.3228987e-11, 1.0000000e+00, 1.7663178e-08],\n",
       "       [8.5906553e-01, 2.2275915e-06, 1.4093222e-01],\n",
       "       ...,\n",
       "       [1.4238264e-11, 1.0000000e+00, 1.8266462e-08],\n",
       "       [8.5697728e-01, 2.4206859e-06, 1.4302023e-01],\n",
       "       [1.7813916e-04, 9.4218715e-04, 9.9887961e-01]], dtype=float32)"
      ]
     },
     "execution_count": 23,
     "metadata": {},
     "output_type": "execute_result"
    }
   ],
   "source": [
    "y_pred"
   ]
  },
  {
   "cell_type": "code",
   "execution_count": 24,
   "id": "fd55c6a7",
   "metadata": {
    "scrolled": true
   },
   "outputs": [
    {
     "data": {
      "text/plain": [
       "array([[0, 1, 0],\n",
       "       [0, 1, 0],\n",
       "       [1, 0, 0],\n",
       "       ...,\n",
       "       [0, 1, 0],\n",
       "       [1, 0, 0],\n",
       "       [0, 0, 1]], dtype=uint8)"
      ]
     },
     "execution_count": 24,
     "metadata": {},
     "output_type": "execute_result"
    }
   ],
   "source": [
    "y_test"
   ]
  },
  {
   "cell_type": "code",
   "execution_count": 25,
   "id": "d1c4802a",
   "metadata": {
    "scrolled": true
   },
   "outputs": [
    {
     "data": {
      "text/plain": [
       "array([0, 1, 0], dtype=uint8)"
      ]
     },
     "execution_count": 25,
     "metadata": {},
     "output_type": "execute_result"
    }
   ],
   "source": [
    "y_test[1]"
   ]
  },
  {
   "cell_type": "code",
   "execution_count": 26,
   "id": "598f86c9",
   "metadata": {
    "scrolled": true
   },
   "outputs": [
    {
     "data": {
      "text/plain": [
       "array([1.3228987e-11, 1.0000000e+00, 1.7663178e-08], dtype=float32)"
      ]
     },
     "execution_count": 26,
     "metadata": {},
     "output_type": "execute_result"
    }
   ],
   "source": [
    "y_pred[1]"
   ]
  },
  {
   "cell_type": "code",
   "execution_count": 27,
   "id": "327ff844",
   "metadata": {},
   "outputs": [],
   "source": [
    "y_test1=np.argmax(y_test, axis=1)"
   ]
  },
  {
   "cell_type": "code",
   "execution_count": 28,
   "id": "7569a178",
   "metadata": {
    "scrolled": true
   },
   "outputs": [
    {
     "data": {
      "text/plain": [
       "array([1, 1, 0, 0, 2, 1, 0, 2, 2, 0, 0, 0, 0, 2, 1, 1, 0, 0, 2, 2, 1, 1,\n",
       "       0, 0, 1, 2, 0, 1, 1, 1, 1, 1, 1, 1, 1, 1, 0, 1, 1, 2, 0, 1, 2, 1,\n",
       "       2, 1, 1, 2, 2, 0, 0, 0, 1, 0, 2, 0, 0, 1, 1, 1, 0, 1, 0, 1, 2, 0,\n",
       "       0, 0, 1, 2, 2, 1, 2, 2, 0, 0, 1, 1, 1, 1, 1, 1, 0, 1, 1, 1, 1, 0,\n",
       "       1, 2, 0, 0, 0, 2, 1, 0, 1, 0, 1, 0, 2, 2, 1, 2, 1, 2, 0, 0, 2, 2,\n",
       "       0, 2, 2, 1, 1, 0, 0, 2, 0, 2, 2, 2, 1, 0, 0, 0, 0, 0, 2, 0, 0, 0,\n",
       "       2, 1, 0, 0, 2, 2, 0, 2, 1, 0, 0, 2, 0, 1, 0, 1, 2, 1, 2, 1, 2, 0,\n",
       "       2, 1, 2, 2, 1, 1, 2, 0, 1, 2, 2, 2, 2, 1, 1, 1, 0, 1, 2, 1, 0, 0,\n",
       "       2, 1, 2, 1, 1, 1, 2, 2, 0, 1, 0, 1, 0, 1, 1, 2, 2, 0, 0, 1, 0, 1,\n",
       "       1, 0, 1, 2, 0, 1, 2, 0, 0, 2, 2, 1, 2, 1, 1, 0, 0, 1, 1, 0, 2, 0,\n",
       "       0, 2, 0, 1, 1, 2, 0, 1, 2, 1, 2, 1, 2, 2, 0, 0, 0, 0, 2, 1, 1, 1,\n",
       "       1, 0, 1, 1, 0, 1, 2, 2, 0, 1, 0, 0, 0, 0, 0, 2, 2, 2, 1, 1, 0, 1,\n",
       "       2, 2, 2, 0, 0, 1, 2, 0, 0, 1, 1, 2, 0, 1, 1, 0, 1, 2, 0, 1, 0, 2,\n",
       "       2, 0, 0, 2, 1, 0, 2, 1, 1, 0, 2, 2, 2, 1, 0, 2, 0, 1, 0, 1, 2, 2,\n",
       "       0, 1, 2, 1, 2, 0, 2, 2, 2, 1, 2, 2, 2, 2, 0, 2, 2, 0, 2, 2, 1, 2,\n",
       "       1, 0, 1, 2, 2, 0, 2, 1, 0, 2, 0, 1, 2, 2, 0, 0, 2, 0, 0, 1, 2, 2,\n",
       "       2, 0, 1, 0, 0, 1, 2, 0, 2, 1, 1, 2, 2, 1, 0, 2, 2, 2, 2, 2, 1, 0,\n",
       "       1, 2, 1, 1, 0, 0, 1, 0, 1, 2, 1, 2, 1, 2, 0, 0, 1, 2, 2, 0, 1, 0,\n",
       "       0, 2, 0, 1, 0, 0, 0, 1, 0, 0, 1, 0, 1, 2, 0, 2, 1, 2, 1, 1, 1, 0,\n",
       "       2, 1, 0, 2, 1, 1, 1, 0, 2, 2, 2, 2, 0, 0, 0, 2, 2, 1, 2, 0, 2, 2,\n",
       "       2, 1, 0, 1, 2, 2, 0, 2, 0, 1, 0, 0, 2, 0, 2, 2, 0, 1, 1, 1, 2, 0,\n",
       "       2, 2, 1, 1, 2, 1, 1, 2, 1, 1, 2, 2, 1, 0, 0, 2, 0, 2, 0, 2, 2, 2,\n",
       "       0, 2, 2, 2, 1, 1, 1, 0, 2, 1, 0, 2, 0, 1, 0, 1, 0, 0, 2, 0, 1, 0,\n",
       "       0, 2, 0, 1, 0, 1, 2, 2, 0, 0, 2, 2, 0, 0, 0, 1, 1, 1, 0, 1, 1, 1,\n",
       "       0, 2, 1, 0, 2], dtype=int64)"
      ]
     },
     "execution_count": 28,
     "metadata": {},
     "output_type": "execute_result"
    }
   ],
   "source": [
    "y_test1"
   ]
  },
  {
   "cell_type": "code",
   "execution_count": 29,
   "id": "ef9ccc25",
   "metadata": {},
   "outputs": [],
   "source": [
    "y_pred1=np.argmax(y_pred,axis=1)"
   ]
  },
  {
   "cell_type": "code",
   "execution_count": 30,
   "id": "57b824b2",
   "metadata": {},
   "outputs": [
    {
     "data": {
      "text/plain": [
       "array([1, 1, 0, 0, 2, 1, 0, 2, 2, 0, 0, 0, 0, 2, 1, 1, 0, 0, 2, 2, 1, 1,\n",
       "       0, 0, 1, 2, 0, 1, 1, 1, 1, 1, 1, 1, 1, 1, 0, 1, 1, 0, 0, 1, 2, 1,\n",
       "       2, 1, 1, 2, 2, 0, 0, 0, 1, 0, 2, 0, 0, 1, 1, 1, 0, 1, 0, 1, 2, 0,\n",
       "       0, 0, 1, 2, 0, 1, 2, 0, 0, 0, 1, 1, 1, 1, 1, 1, 0, 1, 1, 1, 1, 0,\n",
       "       1, 2, 0, 0, 0, 2, 1, 0, 1, 0, 1, 0, 2, 0, 1, 2, 1, 2, 0, 0, 2, 2,\n",
       "       0, 0, 2, 1, 1, 0, 0, 2, 0, 2, 2, 2, 1, 0, 0, 0, 0, 0, 2, 0, 0, 0,\n",
       "       2, 1, 0, 0, 2, 2, 0, 0, 1, 0, 0, 2, 0, 1, 0, 1, 2, 1, 2, 1, 2, 0,\n",
       "       0, 1, 0, 2, 1, 1, 2, 0, 1, 2, 2, 0, 2, 1, 1, 1, 0, 1, 2, 1, 0, 0,\n",
       "       2, 1, 0, 1, 1, 1, 2, 2, 0, 1, 0, 1, 0, 1, 1, 2, 2, 0, 0, 1, 0, 1,\n",
       "       1, 0, 1, 2, 0, 1, 0, 0, 0, 2, 2, 1, 2, 1, 1, 0, 0, 1, 1, 0, 2, 0,\n",
       "       0, 2, 0, 1, 1, 2, 0, 1, 2, 1, 2, 1, 2, 2, 0, 0, 0, 0, 0, 1, 1, 1,\n",
       "       1, 0, 1, 1, 0, 1, 2, 2, 0, 1, 0, 0, 0, 0, 0, 2, 2, 2, 1, 1, 0, 1,\n",
       "       2, 2, 2, 2, 0, 1, 2, 0, 0, 1, 1, 2, 0, 1, 1, 0, 1, 0, 0, 1, 0, 2,\n",
       "       2, 0, 0, 0, 1, 0, 0, 1, 1, 0, 0, 2, 2, 1, 0, 2, 0, 1, 0, 1, 2, 2,\n",
       "       0, 1, 2, 1, 2, 0, 2, 2, 2, 1, 2, 2, 2, 2, 2, 2, 2, 0, 1, 2, 1, 2,\n",
       "       1, 0, 1, 2, 2, 0, 0, 1, 0, 2, 2, 1, 2, 2, 0, 0, 0, 0, 0, 1, 2, 2,\n",
       "       2, 0, 1, 0, 0, 1, 0, 0, 2, 1, 1, 2, 2, 1, 0, 2, 0, 2, 0, 0, 1, 0,\n",
       "       1, 2, 1, 1, 0, 0, 1, 0, 1, 2, 1, 2, 1, 2, 0, 0, 1, 2, 2, 0, 1, 0,\n",
       "       0, 0, 0, 1, 0, 0, 0, 1, 0, 0, 1, 0, 1, 2, 0, 2, 1, 0, 1, 1, 1, 0,\n",
       "       2, 1, 0, 2, 1, 1, 1, 0, 0, 2, 2, 0, 0, 0, 0, 2, 0, 1, 2, 0, 2, 2,\n",
       "       2, 1, 0, 1, 0, 0, 0, 2, 0, 1, 0, 0, 2, 0, 2, 2, 0, 1, 1, 1, 2, 0,\n",
       "       2, 2, 1, 1, 2, 1, 1, 2, 1, 1, 2, 2, 1, 0, 0, 2, 0, 2, 0, 2, 2, 2,\n",
       "       0, 2, 2, 2, 1, 1, 1, 0, 2, 1, 0, 2, 2, 1, 0, 1, 0, 0, 0, 0, 1, 0,\n",
       "       0, 2, 0, 1, 0, 1, 2, 2, 0, 0, 2, 2, 0, 0, 0, 1, 1, 1, 0, 1, 1, 1,\n",
       "       0, 2, 1, 0, 2], dtype=int64)"
      ]
     },
     "execution_count": 30,
     "metadata": {},
     "output_type": "execute_result"
    }
   ],
   "source": [
    "y_pred1"
   ]
  },
  {
   "cell_type": "code",
   "execution_count": 31,
   "id": "4e392660",
   "metadata": {
    "scrolled": true
   },
   "outputs": [
    {
     "data": {
      "text/plain": [
       "0"
      ]
     },
     "execution_count": 31,
     "metadata": {},
     "output_type": "execute_result"
    }
   ],
   "source": [
    "y_test1[12]"
   ]
  },
  {
   "cell_type": "code",
   "execution_count": 32,
   "id": "81e9cf00",
   "metadata": {
    "scrolled": false
   },
   "outputs": [
    {
     "data": {
      "text/plain": [
       "0"
      ]
     },
     "execution_count": 32,
     "metadata": {},
     "output_type": "execute_result"
    }
   ],
   "source": [
    "y_pred1[12]"
   ]
  },
  {
   "cell_type": "code",
   "execution_count": 33,
   "id": "fe3782de",
   "metadata": {
    "scrolled": false
   },
   "outputs": [
    {
     "data": {
      "text/plain": [
       "array([[175,   0,   4],\n",
       "       [  0, 178,   0],\n",
       "       [ 30,   1, 145]], dtype=int64)"
      ]
     },
     "execution_count": 33,
     "metadata": {},
     "output_type": "execute_result"
    }
   ],
   "source": [
    "confusion_matrix(y_test1,y_pred1)"
   ]
  },
  {
   "cell_type": "code",
   "execution_count": 34,
   "id": "f132bee4",
   "metadata": {
    "scrolled": true
   },
   "outputs": [
    {
     "name": "stdout",
     "output_type": "stream",
     "text": [
      "classification_report\n",
      "               precision    recall  f1-score   support\n",
      "\n",
      "           0       0.85      0.98      0.91       179\n",
      "           1       0.99      1.00      1.00       178\n",
      "           2       0.97      0.82      0.89       176\n",
      "\n",
      "    accuracy                           0.93       533\n",
      "   macro avg       0.94      0.93      0.93       533\n",
      "weighted avg       0.94      0.93      0.93       533\n",
      "\n"
     ]
    }
   ],
   "source": [
    "print(\"classification_report\\n\",classification_report(y_test1,y_pred1))"
   ]
  },
  {
   "cell_type": "code",
   "execution_count": 35,
   "id": "4eb98729",
   "metadata": {},
   "outputs": [],
   "source": [
    "from sklearn import metrics\n",
    "auc = metrics.roc_auc_score(y_test,y_pred,multi_class='ovo')"
   ]
  },
  {
   "cell_type": "code",
   "execution_count": 36,
   "id": "a3b800d4",
   "metadata": {
    "scrolled": true
   },
   "outputs": [
    {
     "data": {
      "text/plain": [
       "0.9824095478368022"
      ]
     },
     "execution_count": 36,
     "metadata": {},
     "output_type": "execute_result"
    }
   ],
   "source": [
    "auc"
   ]
  },
  {
   "cell_type": "code",
   "execution_count": 37,
   "id": "0d8e6f83",
   "metadata": {},
   "outputs": [],
   "source": [
    "df_test = pd.DataFrame(y_test, columns = ['label_NEGATIVE','label_NEUTRAL','label_POSITIVE'])"
   ]
  },
  {
   "cell_type": "code",
   "execution_count": 38,
   "id": "06bd5fe5",
   "metadata": {},
   "outputs": [],
   "source": [
    "df_pred = pd.DataFrame(y_pred, columns = ['label_NEGATIVE','label_NEUTRAL','label_POSITIVE'])"
   ]
  },
  {
   "cell_type": "code",
   "execution_count": 39,
   "id": "bcf21967",
   "metadata": {},
   "outputs": [],
   "source": [
    "false_positive_rate, true_positive_rate, thresolds = metrics.roc_curve(df_test['label_NEGATIVE'], df_pred['label_NEGATIVE'])"
   ]
  },
  {
   "cell_type": "code",
   "execution_count": 40,
   "id": "38dbc09d",
   "metadata": {},
   "outputs": [
    {
     "data": {
      "image/png": "[encoded data removed]",
      "text/plain": [
       "<Figure size 1000x800 with 1 Axes>"
      ]
     },
     "metadata": {
      "needs_background": "light"
     },
     "output_type": "display_data"
    }
   ],
   "source": [
    "plt.figure(figsize=(10, 8), dpi=100)\n",
    "plt.axis('scaled')\n",
    "plt.xlim([0, 1])\n",
    "plt.ylim([0, 1])\n",
    "plt.title(\"AUC & ROC Curve\")\n",
    "plt.plot(false_positive_rate, true_positive_rate, 'g')\n",
    "plt.fill_between(false_positive_rate, true_positive_rate, facecolor='lightgreen', alpha=0.7)\n",
    "plt.text(0.95, 0.05, 'AUC = %0.4f' % auc, ha='right', fontsize=12, weight='bold', color='blue')\n",
    "plt.xlabel(\"False Positive Rate\")\n",
    "plt.ylabel(\"True Positive Rate\")\n",
    "plt.show()\n"
   ]
  },
  {
   "cell_type": "code",
   "execution_count": 41,
   "id": "9ce84042",
   "metadata": {},
   "outputs": [
    {
     "data": {
      "image/png": "[encoded data removed]",
      "text/plain": [
       "<Figure size 1000x800 with 1 Axes>"
      ]
     },
     "metadata": {
      "needs_background": "light"
     },
     "output_type": "display_data"
    }
   ],
   "source": [
    "false_positive_rate, true_positive_rate, thresolds = metrics.roc_curve(df_test['label_NEUTRAL'], df_pred['label_NEUTRAL'])\n",
    "plt.figure(figsize=(10, 8), dpi=100)\n",
    "plt.axis('scaled')\n",
    "plt.xlim([0, 1])\n",
    "plt.ylim([0, 1])\n",
    "plt.title(\"AUC & ROC Curve\")\n",
    "plt.plot(false_positive_rate, true_positive_rate, 'g')\n",
    "plt.fill_between(false_positive_rate, true_positive_rate, facecolor='lightgreen', alpha=0.7)\n",
    "plt.text(0.95, 0.05, 'AUC = %0.4f' % auc, ha='right', fontsize=12, weight='bold', color='blue')\n",
    "plt.xlabel(\"False Positive Rate\")\n",
    "plt.ylabel(\"True Positive Rate\")\n",
    "plt.show()"
   ]
  },
  {
   "cell_type": "code",
   "execution_count": 42,
   "id": "72c584e4",
   "metadata": {},
   "outputs": [
    {
     "data": {
      "image/png": "[encoded data removed]",
      "text/plain": [
       "<Figure size 1000x800 with 1 Axes>"
      ]
     },
     "metadata": {
      "needs_background": "light"
     },
     "output_type": "display_data"
    }
   ],
   "source": [
    "false_positive_rate, true_positive_rate, thresolds = metrics.roc_curve(df_test['label_POSITIVE'], df_pred['label_POSITIVE'])\n",
    "plt.figure(figsize=(10, 8), dpi=100)\n",
    "plt.axis('scaled')\n",
    "plt.xlim([0, 1])\n",
    "plt.ylim([0, 1])\n",
    "plt.title(\"AUC & ROC Curve\")\n",
    "plt.plot(false_positive_rate, true_positive_rate, 'g')\n",
    "plt.fill_between(false_positive_rate, true_positive_rate, facecolor='lightgreen', alpha=0.7)\n",
    "plt.text(0.95, 0.05, 'AUC = %0.4f' % auc, ha='right', fontsize=12, weight='bold', color='blue')\n",
    "plt.xlabel(\"False Positive Rate\")\n",
    "plt.ylabel(\"True Positive Rate\")\n",
    "plt.show()"
   ]
  },
  {
   "cell_type": "code",
   "execution_count": null,
   "id": "8aa0d3e0",
   "metadata": {},
   "outputs": [],
   "source": []
  }
 ],
 "metadata": {
  "kernelspec": {
   "display_name": "Python 3 (ipykernel)",
   "language": "python",
   "name": "python3"
  },
  "language_info": {
   "codemirror_mode": {
    "name": "ipython",
    "version": 3
   },
   "file_extension": ".py",
   "mimetype": "text/x-python",
   "name": "python",
   "nbconvert_exporter": "python",
   "pygments_lexer": "ipython3",
   "version": "3.9.7"
  }
 },
 "nbformat": 4,
 "nbformat_minor": 5
}
