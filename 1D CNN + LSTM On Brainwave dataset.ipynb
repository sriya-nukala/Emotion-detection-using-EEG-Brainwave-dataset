{
 "cells": [
  {
   "cell_type": "code",
   "execution_count": 1,
   "id": "6884fdb3",
   "metadata": {},
   "outputs": [],
   "source": [
    "import pandas as pd\n",
    "import numpy as np\n",
    "import seaborn as sns\n",
    "import matplotlib.pyplot as plt\n",
    "import keras\n",
    "\n",
    "from sklearn.model_selection import train_test_split\n",
    "from keras.models import Sequential\n",
    "from keras.layers import Dense,Activation\n",
    "from keras.layers import Flatten,BatchNormalization\n",
    "from keras.layers import Dropout,Conv1D,MaxPooling1D,LSTM\n",
    "from sklearn.preprocessing import OneHotEncoder\n",
    "from sklearn.metrics import classification_report,confusion_matrix"
   ]
  },
  {
   "cell_type": "code",
   "execution_count": 2,
   "id": "f2b9ba4d",
   "metadata": {},
   "outputs": [],
   "source": [
    "data=pd.read_csv(\"emotions.csv\")"
   ]
  },
  {
   "cell_type": "code",
   "execution_count": 3,
   "id": "7b116a51",
   "metadata": {},
   "outputs": [
    {
     "data": {
      "text/plain": [
       "(2132, 2549)"
      ]
     },
     "execution_count": 3,
     "metadata": {},
     "output_type": "execute_result"
    }
   ],
   "source": [
    "data.shape"
   ]
  },
  {
   "cell_type": "code",
   "execution_count": 4,
   "id": "e09bc36a",
   "metadata": {},
   "outputs": [
    {
     "name": "stdout",
     "output_type": "stream",
     "text": [
      "<class 'pandas.core.frame.DataFrame'>\n",
      "RangeIndex: 2132 entries, 0 to 2131\n",
      "Columns: 2549 entries, # mean_0_a to label\n",
      "dtypes: float64(2548), object(1)\n",
      "memory usage: 41.5+ MB\n"
     ]
    }
   ],
   "source": [
    "data.info()"
   ]
  },
  {
   "cell_type": "code",
   "execution_count": 5,
   "id": "af6af090",
   "metadata": {},
   "outputs": [
    {
     "data": {
      "text/plain": [
       "0"
      ]
     },
     "execution_count": 5,
     "metadata": {},
     "output_type": "execute_result"
    }
   ],
   "source": [
    "data.isna().sum().sum()"
   ]
  },
  {
   "cell_type": "code",
   "execution_count": 6,
   "id": "f088da15",
   "metadata": {},
   "outputs": [
    {
     "data": {
      "text/plain": [
       "NEUTRAL     716\n",
       "NEGATIVE    708\n",
       "POSITIVE    708\n",
       "Name: label, dtype: int64"
      ]
     },
     "execution_count": 6,
     "metadata": {},
     "output_type": "execute_result"
    }
   ],
   "source": [
    "data['label'].value_counts()"
   ]
  },
  {
   "cell_type": "code",
   "execution_count": 7,
   "id": "1f972f49",
   "metadata": {},
   "outputs": [],
   "source": [
    "data_new= pd.get_dummies(data, columns = ['label'])\n"
   ]
  },
  {
   "cell_type": "code",
   "execution_count": 8,
   "id": "e0e98b93",
   "metadata": {},
   "outputs": [
    {
     "data": {
      "text/html": [
       "<div>\n",
       "<style scoped>\n",
       "    .dataframe tbody tr th:only-of-type {\n",
       "        vertical-align: middle;\n",
       "    }\n",
       "\n",
       "    .dataframe tbody tr th {\n",
       "        vertical-align: top;\n",
       "    }\n",
       "\n",
       "    .dataframe thead th {\n",
       "        text-align: right;\n",
       "    }\n",
       "</style>\n",
       "<table border=\"1\" class=\"dataframe\">\n",
       "  <thead>\n",
       "    <tr style=\"text-align: right;\">\n",
       "      <th></th>\n",
       "      <th># mean_0_a</th>\n",
       "      <th>mean_1_a</th>\n",
       "      <th>mean_2_a</th>\n",
       "      <th>mean_3_a</th>\n",
       "      <th>mean_4_a</th>\n",
       "      <th>mean_d_0_a</th>\n",
       "      <th>mean_d_1_a</th>\n",
       "      <th>mean_d_2_a</th>\n",
       "      <th>mean_d_3_a</th>\n",
       "      <th>mean_d_4_a</th>\n",
       "      <th>...</th>\n",
       "      <th>fft_743_b</th>\n",
       "      <th>fft_744_b</th>\n",
       "      <th>fft_745_b</th>\n",
       "      <th>fft_746_b</th>\n",
       "      <th>fft_747_b</th>\n",
       "      <th>fft_748_b</th>\n",
       "      <th>fft_749_b</th>\n",
       "      <th>label_NEGATIVE</th>\n",
       "      <th>label_NEUTRAL</th>\n",
       "      <th>label_POSITIVE</th>\n",
       "    </tr>\n",
       "  </thead>\n",
       "  <tbody>\n",
       "    <tr>\n",
       "      <th>0</th>\n",
       "      <td>4.620</td>\n",
       "      <td>30.3</td>\n",
       "      <td>-356.0</td>\n",
       "      <td>15.60</td>\n",
       "      <td>26.3</td>\n",
       "      <td>1.070</td>\n",
       "      <td>0.411</td>\n",
       "      <td>-15.700</td>\n",
       "      <td>2.060</td>\n",
       "      <td>3.15</td>\n",
       "      <td>...</td>\n",
       "      <td>20.300</td>\n",
       "      <td>23.50</td>\n",
       "      <td>-215.0</td>\n",
       "      <td>280.00</td>\n",
       "      <td>-162.00</td>\n",
       "      <td>-162.00</td>\n",
       "      <td>280.00</td>\n",
       "      <td>1</td>\n",
       "      <td>0</td>\n",
       "      <td>0</td>\n",
       "    </tr>\n",
       "    <tr>\n",
       "      <th>1</th>\n",
       "      <td>28.800</td>\n",
       "      <td>33.1</td>\n",
       "      <td>32.0</td>\n",
       "      <td>25.80</td>\n",
       "      <td>22.8</td>\n",
       "      <td>6.550</td>\n",
       "      <td>1.680</td>\n",
       "      <td>2.880</td>\n",
       "      <td>3.830</td>\n",
       "      <td>-4.82</td>\n",
       "      <td>...</td>\n",
       "      <td>-21.800</td>\n",
       "      <td>-23.30</td>\n",
       "      <td>182.0</td>\n",
       "      <td>2.57</td>\n",
       "      <td>-31.60</td>\n",
       "      <td>-31.60</td>\n",
       "      <td>2.57</td>\n",
       "      <td>0</td>\n",
       "      <td>1</td>\n",
       "      <td>0</td>\n",
       "    </tr>\n",
       "    <tr>\n",
       "      <th>2</th>\n",
       "      <td>8.900</td>\n",
       "      <td>29.4</td>\n",
       "      <td>-416.0</td>\n",
       "      <td>16.70</td>\n",
       "      <td>23.7</td>\n",
       "      <td>79.900</td>\n",
       "      <td>3.360</td>\n",
       "      <td>90.200</td>\n",
       "      <td>89.900</td>\n",
       "      <td>2.03</td>\n",
       "      <td>...</td>\n",
       "      <td>-233.000</td>\n",
       "      <td>462.00</td>\n",
       "      <td>-267.0</td>\n",
       "      <td>281.00</td>\n",
       "      <td>-148.00</td>\n",
       "      <td>-148.00</td>\n",
       "      <td>281.00</td>\n",
       "      <td>0</td>\n",
       "      <td>0</td>\n",
       "      <td>1</td>\n",
       "    </tr>\n",
       "    <tr>\n",
       "      <th>3</th>\n",
       "      <td>14.900</td>\n",
       "      <td>31.6</td>\n",
       "      <td>-143.0</td>\n",
       "      <td>19.80</td>\n",
       "      <td>24.3</td>\n",
       "      <td>-0.584</td>\n",
       "      <td>-0.284</td>\n",
       "      <td>8.820</td>\n",
       "      <td>2.300</td>\n",
       "      <td>-1.97</td>\n",
       "      <td>...</td>\n",
       "      <td>-243.000</td>\n",
       "      <td>299.00</td>\n",
       "      <td>132.0</td>\n",
       "      <td>-12.40</td>\n",
       "      <td>9.53</td>\n",
       "      <td>9.53</td>\n",
       "      <td>-12.40</td>\n",
       "      <td>0</td>\n",
       "      <td>0</td>\n",
       "      <td>1</td>\n",
       "    </tr>\n",
       "    <tr>\n",
       "      <th>4</th>\n",
       "      <td>28.300</td>\n",
       "      <td>31.3</td>\n",
       "      <td>45.2</td>\n",
       "      <td>27.30</td>\n",
       "      <td>24.5</td>\n",
       "      <td>34.800</td>\n",
       "      <td>-5.790</td>\n",
       "      <td>3.060</td>\n",
       "      <td>41.400</td>\n",
       "      <td>5.52</td>\n",
       "      <td>...</td>\n",
       "      <td>38.100</td>\n",
       "      <td>12.00</td>\n",
       "      <td>119.0</td>\n",
       "      <td>-17.60</td>\n",
       "      <td>23.90</td>\n",
       "      <td>23.90</td>\n",
       "      <td>-17.60</td>\n",
       "      <td>0</td>\n",
       "      <td>1</td>\n",
       "      <td>0</td>\n",
       "    </tr>\n",
       "    <tr>\n",
       "      <th>...</th>\n",
       "      <td>...</td>\n",
       "      <td>...</td>\n",
       "      <td>...</td>\n",
       "      <td>...</td>\n",
       "      <td>...</td>\n",
       "      <td>...</td>\n",
       "      <td>...</td>\n",
       "      <td>...</td>\n",
       "      <td>...</td>\n",
       "      <td>...</td>\n",
       "      <td>...</td>\n",
       "      <td>...</td>\n",
       "      <td>...</td>\n",
       "      <td>...</td>\n",
       "      <td>...</td>\n",
       "      <td>...</td>\n",
       "      <td>...</td>\n",
       "      <td>...</td>\n",
       "      <td>...</td>\n",
       "      <td>...</td>\n",
       "      <td>...</td>\n",
       "    </tr>\n",
       "    <tr>\n",
       "      <th>2127</th>\n",
       "      <td>32.400</td>\n",
       "      <td>32.2</td>\n",
       "      <td>32.2</td>\n",
       "      <td>30.80</td>\n",
       "      <td>23.4</td>\n",
       "      <td>1.640</td>\n",
       "      <td>-2.030</td>\n",
       "      <td>0.647</td>\n",
       "      <td>-0.121</td>\n",
       "      <td>-1.10</td>\n",
       "      <td>...</td>\n",
       "      <td>0.218</td>\n",
       "      <td>-21.70</td>\n",
       "      <td>95.2</td>\n",
       "      <td>-19.90</td>\n",
       "      <td>47.20</td>\n",
       "      <td>47.20</td>\n",
       "      <td>-19.90</td>\n",
       "      <td>0</td>\n",
       "      <td>1</td>\n",
       "      <td>0</td>\n",
       "    </tr>\n",
       "    <tr>\n",
       "      <th>2128</th>\n",
       "      <td>16.300</td>\n",
       "      <td>31.3</td>\n",
       "      <td>-284.0</td>\n",
       "      <td>14.30</td>\n",
       "      <td>23.9</td>\n",
       "      <td>4.200</td>\n",
       "      <td>1.090</td>\n",
       "      <td>4.460</td>\n",
       "      <td>4.720</td>\n",
       "      <td>6.63</td>\n",
       "      <td>...</td>\n",
       "      <td>-324.000</td>\n",
       "      <td>594.00</td>\n",
       "      <td>-35.5</td>\n",
       "      <td>142.00</td>\n",
       "      <td>-59.80</td>\n",
       "      <td>-59.80</td>\n",
       "      <td>142.00</td>\n",
       "      <td>0</td>\n",
       "      <td>0</td>\n",
       "      <td>1</td>\n",
       "    </tr>\n",
       "    <tr>\n",
       "      <th>2129</th>\n",
       "      <td>-0.547</td>\n",
       "      <td>28.3</td>\n",
       "      <td>-259.0</td>\n",
       "      <td>15.80</td>\n",
       "      <td>26.7</td>\n",
       "      <td>9.080</td>\n",
       "      <td>6.900</td>\n",
       "      <td>12.700</td>\n",
       "      <td>2.030</td>\n",
       "      <td>4.64</td>\n",
       "      <td>...</td>\n",
       "      <td>-160.000</td>\n",
       "      <td>370.00</td>\n",
       "      <td>408.0</td>\n",
       "      <td>-169.00</td>\n",
       "      <td>-10.50</td>\n",
       "      <td>-10.50</td>\n",
       "      <td>-169.00</td>\n",
       "      <td>1</td>\n",
       "      <td>0</td>\n",
       "      <td>0</td>\n",
       "    </tr>\n",
       "    <tr>\n",
       "      <th>2130</th>\n",
       "      <td>16.800</td>\n",
       "      <td>19.9</td>\n",
       "      <td>-288.0</td>\n",
       "      <td>8.34</td>\n",
       "      <td>26.0</td>\n",
       "      <td>2.460</td>\n",
       "      <td>1.580</td>\n",
       "      <td>-16.000</td>\n",
       "      <td>1.690</td>\n",
       "      <td>4.74</td>\n",
       "      <td>...</td>\n",
       "      <td>-27.600</td>\n",
       "      <td>124.00</td>\n",
       "      <td>-656.0</td>\n",
       "      <td>552.00</td>\n",
       "      <td>-271.00</td>\n",
       "      <td>-271.00</td>\n",
       "      <td>552.00</td>\n",
       "      <td>1</td>\n",
       "      <td>0</td>\n",
       "      <td>0</td>\n",
       "    </tr>\n",
       "    <tr>\n",
       "      <th>2131</th>\n",
       "      <td>27.000</td>\n",
       "      <td>32.0</td>\n",
       "      <td>31.8</td>\n",
       "      <td>25.00</td>\n",
       "      <td>28.9</td>\n",
       "      <td>4.990</td>\n",
       "      <td>1.950</td>\n",
       "      <td>6.210</td>\n",
       "      <td>3.490</td>\n",
       "      <td>-3.51</td>\n",
       "      <td>...</td>\n",
       "      <td>1.810</td>\n",
       "      <td>1.95</td>\n",
       "      <td>110.0</td>\n",
       "      <td>-6.71</td>\n",
       "      <td>22.80</td>\n",
       "      <td>22.80</td>\n",
       "      <td>-6.71</td>\n",
       "      <td>0</td>\n",
       "      <td>1</td>\n",
       "      <td>0</td>\n",
       "    </tr>\n",
       "  </tbody>\n",
       "</table>\n",
       "<p>2132 rows × 2551 columns</p>\n",
       "</div>"
      ],
      "text/plain": [
       "      # mean_0_a  mean_1_a  mean_2_a  mean_3_a  mean_4_a  mean_d_0_a  \\\n",
       "0          4.620      30.3    -356.0     15.60      26.3       1.070   \n",
       "1         28.800      33.1      32.0     25.80      22.8       6.550   \n",
       "2          8.900      29.4    -416.0     16.70      23.7      79.900   \n",
       "3         14.900      31.6    -143.0     19.80      24.3      -0.584   \n",
       "4         28.300      31.3      45.2     27.30      24.5      34.800   \n",
       "...          ...       ...       ...       ...       ...         ...   \n",
       "2127      32.400      32.2      32.2     30.80      23.4       1.640   \n",
       "2128      16.300      31.3    -284.0     14.30      23.9       4.200   \n",
       "2129      -0.547      28.3    -259.0     15.80      26.7       9.080   \n",
       "2130      16.800      19.9    -288.0      8.34      26.0       2.460   \n",
       "2131      27.000      32.0      31.8     25.00      28.9       4.990   \n",
       "\n",
       "      mean_d_1_a  mean_d_2_a  mean_d_3_a  mean_d_4_a  ...  fft_743_b  \\\n",
       "0          0.411     -15.700       2.060        3.15  ...     20.300   \n",
       "1          1.680       2.880       3.830       -4.82  ...    -21.800   \n",
       "2          3.360      90.200      89.900        2.03  ...   -233.000   \n",
       "3         -0.284       8.820       2.300       -1.97  ...   -243.000   \n",
       "4         -5.790       3.060      41.400        5.52  ...     38.100   \n",
       "...          ...         ...         ...         ...  ...        ...   \n",
       "2127      -2.030       0.647      -0.121       -1.10  ...      0.218   \n",
       "2128       1.090       4.460       4.720        6.63  ...   -324.000   \n",
       "2129       6.900      12.700       2.030        4.64  ...   -160.000   \n",
       "2130       1.580     -16.000       1.690        4.74  ...    -27.600   \n",
       "2131       1.950       6.210       3.490       -3.51  ...      1.810   \n",
       "\n",
       "      fft_744_b  fft_745_b  fft_746_b  fft_747_b  fft_748_b  fft_749_b  \\\n",
       "0         23.50     -215.0     280.00    -162.00    -162.00     280.00   \n",
       "1        -23.30      182.0       2.57     -31.60     -31.60       2.57   \n",
       "2        462.00     -267.0     281.00    -148.00    -148.00     281.00   \n",
       "3        299.00      132.0     -12.40       9.53       9.53     -12.40   \n",
       "4         12.00      119.0     -17.60      23.90      23.90     -17.60   \n",
       "...         ...        ...        ...        ...        ...        ...   \n",
       "2127     -21.70       95.2     -19.90      47.20      47.20     -19.90   \n",
       "2128     594.00      -35.5     142.00     -59.80     -59.80     142.00   \n",
       "2129     370.00      408.0    -169.00     -10.50     -10.50    -169.00   \n",
       "2130     124.00     -656.0     552.00    -271.00    -271.00     552.00   \n",
       "2131       1.95      110.0      -6.71      22.80      22.80      -6.71   \n",
       "\n",
       "      label_NEGATIVE  label_NEUTRAL  label_POSITIVE  \n",
       "0                  1              0               0  \n",
       "1                  0              1               0  \n",
       "2                  0              0               1  \n",
       "3                  0              0               1  \n",
       "4                  0              1               0  \n",
       "...              ...            ...             ...  \n",
       "2127               0              1               0  \n",
       "2128               0              0               1  \n",
       "2129               1              0               0  \n",
       "2130               1              0               0  \n",
       "2131               0              1               0  \n",
       "\n",
       "[2132 rows x 2551 columns]"
      ]
     },
     "execution_count": 8,
     "metadata": {},
     "output_type": "execute_result"
    }
   ],
   "source": [
    "data_new"
   ]
  },
  {
   "cell_type": "code",
   "execution_count": 9,
   "id": "039ac115",
   "metadata": {},
   "outputs": [
    {
     "data": {
      "text/html": [
       "<div>\n",
       "<style scoped>\n",
       "    .dataframe tbody tr th:only-of-type {\n",
       "        vertical-align: middle;\n",
       "    }\n",
       "\n",
       "    .dataframe tbody tr th {\n",
       "        vertical-align: top;\n",
       "    }\n",
       "\n",
       "    .dataframe thead th {\n",
       "        text-align: right;\n",
       "    }\n",
       "</style>\n",
       "<table border=\"1\" class=\"dataframe\">\n",
       "  <thead>\n",
       "    <tr style=\"text-align: right;\">\n",
       "      <th></th>\n",
       "      <th># mean_0_a</th>\n",
       "      <th>mean_1_a</th>\n",
       "      <th>mean_2_a</th>\n",
       "      <th>mean_3_a</th>\n",
       "      <th>mean_4_a</th>\n",
       "      <th>mean_d_0_a</th>\n",
       "      <th>mean_d_1_a</th>\n",
       "      <th>mean_d_2_a</th>\n",
       "      <th>mean_d_3_a</th>\n",
       "      <th>mean_d_4_a</th>\n",
       "      <th>...</th>\n",
       "      <th>fft_740_b</th>\n",
       "      <th>fft_741_b</th>\n",
       "      <th>fft_742_b</th>\n",
       "      <th>fft_743_b</th>\n",
       "      <th>fft_744_b</th>\n",
       "      <th>fft_745_b</th>\n",
       "      <th>fft_746_b</th>\n",
       "      <th>fft_747_b</th>\n",
       "      <th>fft_748_b</th>\n",
       "      <th>fft_749_b</th>\n",
       "    </tr>\n",
       "  </thead>\n",
       "  <tbody>\n",
       "    <tr>\n",
       "      <th>0</th>\n",
       "      <td>4.62</td>\n",
       "      <td>30.3</td>\n",
       "      <td>-356.0</td>\n",
       "      <td>15.6</td>\n",
       "      <td>26.3</td>\n",
       "      <td>1.070</td>\n",
       "      <td>0.411</td>\n",
       "      <td>-15.70</td>\n",
       "      <td>2.06</td>\n",
       "      <td>3.15</td>\n",
       "      <td>...</td>\n",
       "      <td>74.3</td>\n",
       "      <td>23.5</td>\n",
       "      <td>20.3</td>\n",
       "      <td>20.3</td>\n",
       "      <td>23.5</td>\n",
       "      <td>-215.0</td>\n",
       "      <td>280.00</td>\n",
       "      <td>-162.00</td>\n",
       "      <td>-162.00</td>\n",
       "      <td>280.00</td>\n",
       "    </tr>\n",
       "    <tr>\n",
       "      <th>1</th>\n",
       "      <td>28.80</td>\n",
       "      <td>33.1</td>\n",
       "      <td>32.0</td>\n",
       "      <td>25.8</td>\n",
       "      <td>22.8</td>\n",
       "      <td>6.550</td>\n",
       "      <td>1.680</td>\n",
       "      <td>2.88</td>\n",
       "      <td>3.83</td>\n",
       "      <td>-4.82</td>\n",
       "      <td>...</td>\n",
       "      <td>130.0</td>\n",
       "      <td>-23.3</td>\n",
       "      <td>-21.8</td>\n",
       "      <td>-21.8</td>\n",
       "      <td>-23.3</td>\n",
       "      <td>182.0</td>\n",
       "      <td>2.57</td>\n",
       "      <td>-31.60</td>\n",
       "      <td>-31.60</td>\n",
       "      <td>2.57</td>\n",
       "    </tr>\n",
       "    <tr>\n",
       "      <th>2</th>\n",
       "      <td>8.90</td>\n",
       "      <td>29.4</td>\n",
       "      <td>-416.0</td>\n",
       "      <td>16.7</td>\n",
       "      <td>23.7</td>\n",
       "      <td>79.900</td>\n",
       "      <td>3.360</td>\n",
       "      <td>90.20</td>\n",
       "      <td>89.90</td>\n",
       "      <td>2.03</td>\n",
       "      <td>...</td>\n",
       "      <td>-534.0</td>\n",
       "      <td>462.0</td>\n",
       "      <td>-233.0</td>\n",
       "      <td>-233.0</td>\n",
       "      <td>462.0</td>\n",
       "      <td>-267.0</td>\n",
       "      <td>281.00</td>\n",
       "      <td>-148.00</td>\n",
       "      <td>-148.00</td>\n",
       "      <td>281.00</td>\n",
       "    </tr>\n",
       "    <tr>\n",
       "      <th>3</th>\n",
       "      <td>14.90</td>\n",
       "      <td>31.6</td>\n",
       "      <td>-143.0</td>\n",
       "      <td>19.8</td>\n",
       "      <td>24.3</td>\n",
       "      <td>-0.584</td>\n",
       "      <td>-0.284</td>\n",
       "      <td>8.82</td>\n",
       "      <td>2.30</td>\n",
       "      <td>-1.97</td>\n",
       "      <td>...</td>\n",
       "      <td>-183.0</td>\n",
       "      <td>299.0</td>\n",
       "      <td>-243.0</td>\n",
       "      <td>-243.0</td>\n",
       "      <td>299.0</td>\n",
       "      <td>132.0</td>\n",
       "      <td>-12.40</td>\n",
       "      <td>9.53</td>\n",
       "      <td>9.53</td>\n",
       "      <td>-12.40</td>\n",
       "    </tr>\n",
       "    <tr>\n",
       "      <th>4</th>\n",
       "      <td>28.30</td>\n",
       "      <td>31.3</td>\n",
       "      <td>45.2</td>\n",
       "      <td>27.3</td>\n",
       "      <td>24.5</td>\n",
       "      <td>34.800</td>\n",
       "      <td>-5.790</td>\n",
       "      <td>3.06</td>\n",
       "      <td>41.40</td>\n",
       "      <td>5.52</td>\n",
       "      <td>...</td>\n",
       "      <td>114.0</td>\n",
       "      <td>12.0</td>\n",
       "      <td>38.1</td>\n",
       "      <td>38.1</td>\n",
       "      <td>12.0</td>\n",
       "      <td>119.0</td>\n",
       "      <td>-17.60</td>\n",
       "      <td>23.90</td>\n",
       "      <td>23.90</td>\n",
       "      <td>-17.60</td>\n",
       "    </tr>\n",
       "  </tbody>\n",
       "</table>\n",
       "<p>5 rows × 2548 columns</p>\n",
       "</div>"
      ],
      "text/plain": [
       "   # mean_0_a  mean_1_a  mean_2_a  mean_3_a  mean_4_a  mean_d_0_a  mean_d_1_a  \\\n",
       "0        4.62      30.3    -356.0      15.6      26.3       1.070       0.411   \n",
       "1       28.80      33.1      32.0      25.8      22.8       6.550       1.680   \n",
       "2        8.90      29.4    -416.0      16.7      23.7      79.900       3.360   \n",
       "3       14.90      31.6    -143.0      19.8      24.3      -0.584      -0.284   \n",
       "4       28.30      31.3      45.2      27.3      24.5      34.800      -5.790   \n",
       "\n",
       "   mean_d_2_a  mean_d_3_a  mean_d_4_a  ...  fft_740_b  fft_741_b  fft_742_b  \\\n",
       "0      -15.70        2.06        3.15  ...       74.3       23.5       20.3   \n",
       "1        2.88        3.83       -4.82  ...      130.0      -23.3      -21.8   \n",
       "2       90.20       89.90        2.03  ...     -534.0      462.0     -233.0   \n",
       "3        8.82        2.30       -1.97  ...     -183.0      299.0     -243.0   \n",
       "4        3.06       41.40        5.52  ...      114.0       12.0       38.1   \n",
       "\n",
       "   fft_743_b  fft_744_b  fft_745_b  fft_746_b  fft_747_b  fft_748_b  fft_749_b  \n",
       "0       20.3       23.5     -215.0     280.00    -162.00    -162.00     280.00  \n",
       "1      -21.8      -23.3      182.0       2.57     -31.60     -31.60       2.57  \n",
       "2     -233.0      462.0     -267.0     281.00    -148.00    -148.00     281.00  \n",
       "3     -243.0      299.0      132.0     -12.40       9.53       9.53     -12.40  \n",
       "4       38.1       12.0      119.0     -17.60      23.90      23.90     -17.60  \n",
       "\n",
       "[5 rows x 2548 columns]"
      ]
     },
     "execution_count": 9,
     "metadata": {},
     "output_type": "execute_result"
    }
   ],
   "source": [
    "X=data_new.loc[:,'# mean_0_a':'fft_749_b']\n",
    "X.head()"
   ]
  },
  {
   "cell_type": "code",
   "execution_count": 10,
   "id": "3c62093c",
   "metadata": {},
   "outputs": [
    {
     "data": {
      "text/html": [
       "<div>\n",
       "<style scoped>\n",
       "    .dataframe tbody tr th:only-of-type {\n",
       "        vertical-align: middle;\n",
       "    }\n",
       "\n",
       "    .dataframe tbody tr th {\n",
       "        vertical-align: top;\n",
       "    }\n",
       "\n",
       "    .dataframe thead th {\n",
       "        text-align: right;\n",
       "    }\n",
       "</style>\n",
       "<table border=\"1\" class=\"dataframe\">\n",
       "  <thead>\n",
       "    <tr style=\"text-align: right;\">\n",
       "      <th></th>\n",
       "      <th>label_NEGATIVE</th>\n",
       "      <th>label_NEUTRAL</th>\n",
       "      <th>label_POSITIVE</th>\n",
       "    </tr>\n",
       "  </thead>\n",
       "  <tbody>\n",
       "    <tr>\n",
       "      <th>0</th>\n",
       "      <td>1</td>\n",
       "      <td>0</td>\n",
       "      <td>0</td>\n",
       "    </tr>\n",
       "    <tr>\n",
       "      <th>1</th>\n",
       "      <td>0</td>\n",
       "      <td>1</td>\n",
       "      <td>0</td>\n",
       "    </tr>\n",
       "    <tr>\n",
       "      <th>2</th>\n",
       "      <td>0</td>\n",
       "      <td>0</td>\n",
       "      <td>1</td>\n",
       "    </tr>\n",
       "    <tr>\n",
       "      <th>3</th>\n",
       "      <td>0</td>\n",
       "      <td>0</td>\n",
       "      <td>1</td>\n",
       "    </tr>\n",
       "    <tr>\n",
       "      <th>4</th>\n",
       "      <td>0</td>\n",
       "      <td>1</td>\n",
       "      <td>0</td>\n",
       "    </tr>\n",
       "  </tbody>\n",
       "</table>\n",
       "</div>"
      ],
      "text/plain": [
       "   label_NEGATIVE  label_NEUTRAL  label_POSITIVE\n",
       "0               1              0               0\n",
       "1               0              1               0\n",
       "2               0              0               1\n",
       "3               0              0               1\n",
       "4               0              1               0"
      ]
     },
     "execution_count": 10,
     "metadata": {},
     "output_type": "execute_result"
    }
   ],
   "source": [
    "y=data_new.loc[:,'label_NEGATIVE':'label_POSITIVE']\n",
    "y.head()"
   ]
  },
  {
   "cell_type": "code",
   "execution_count": 11,
   "id": "7b27c346",
   "metadata": {},
   "outputs": [],
   "source": [
    "X=X.values\n",
    "y=y.values"
   ]
  },
  {
   "cell_type": "code",
   "execution_count": 12,
   "id": "7fc2cf24",
   "metadata": {},
   "outputs": [],
   "source": [
    "X_train,X_test,y_train,y_test=train_test_split(X,y,test_size=0.25,random_state=42)"
   ]
  },
  {
   "cell_type": "code",
   "execution_count": 13,
   "id": "012151c8",
   "metadata": {},
   "outputs": [],
   "source": [
    "X_train, X_val, y_train, y_val = train_test_split(X_train, y_train, test_size=0.2, random_state=1)"
   ]
  },
  {
   "cell_type": "code",
   "execution_count": 14,
   "id": "6318ffc4",
   "metadata": {},
   "outputs": [
    {
     "data": {
      "text/plain": [
       "(1279, 2548)"
      ]
     },
     "execution_count": 14,
     "metadata": {},
     "output_type": "execute_result"
    }
   ],
   "source": [
    "X_train.shape"
   ]
  },
  {
   "cell_type": "code",
   "execution_count": 21,
   "id": "2089f733",
   "metadata": {},
   "outputs": [
    {
     "name": "stdout",
     "output_type": "stream",
     "text": [
      "Model: \"sequential_1\"\n",
      "_________________________________________________________________\n",
      " Layer (type)                Output Shape              Param #   \n",
      "=================================================================\n",
      " conv1d_4 (Conv1D)           (None, 2544, 64)          384       \n",
      "                                                                 \n",
      " conv1d_5 (Conv1D)           (None, 2540, 32)          10272     \n",
      "                                                                 \n",
      " max_pooling1d_2 (MaxPooling  (None, 1270, 32)         0         \n",
      " 1D)                                                             \n",
      "                                                                 \n",
      " conv1d_6 (Conv1D)           (None, 1268, 32)          3104      \n",
      "                                                                 \n",
      " conv1d_7 (Conv1D)           (None, 1266, 32)          3104      \n",
      "                                                                 \n",
      " max_pooling1d_3 (MaxPooling  (None, 633, 32)          0         \n",
      " 1D)                                                             \n",
      "                                                                 \n",
      " lstm_1 (LSTM)               (None, 64)                24832     \n",
      "                                                                 \n",
      " dropout_2 (Dropout)         (None, 64)                0         \n",
      "                                                                 \n",
      " dense_3 (Dense)             (None, 32)                2080      \n",
      "                                                                 \n",
      " dense_4 (Dense)             (None, 16)                528       \n",
      "                                                                 \n",
      " dropout_3 (Dropout)         (None, 16)                0         \n",
      "                                                                 \n",
      " activation_1 (Activation)   (None, 16)                0         \n",
      "                                                                 \n",
      " dense_5 (Dense)             (None, 3)                 51        \n",
      "                                                                 \n",
      "=================================================================\n",
      "Total params: 44,355\n",
      "Trainable params: 44,355\n",
      "Non-trainable params: 0\n",
      "_________________________________________________________________\n"
     ]
    }
   ],
   "source": [
    "#final model\n",
    "\n",
    "model = Sequential()\n",
    "input_shape=(X_train.shape[1], 1)\n",
    "\n",
    "model.add(Conv1D(64, kernel_size=5,activation='relu', input_shape=input_shape))\n",
    "model.add(Conv1D(32,kernel_size=5, activation='relu'))\n",
    "model.add(MaxPooling1D())\n",
    "model.add(Conv1D(32,kernel_size=3, activation='relu'))\n",
    "model.add(Conv1D(32,kernel_size=3, activation='relu'))\n",
    "model.add(MaxPooling1D())\n",
    "\n",
    "model.add(LSTM(64,activation=\"sigmoid\"))\n",
    "model.add(Dropout(0.5)) ##extra\n",
    "# model.add(LSTM(16,activation=\"sigmoid\"))#extra\n",
    "# model.add(Dropout(0.5)) #extra\n",
    "# model.add(Flatten())\n",
    "\n",
    "model.add(Dense(32, activation='relu'))\n",
    "model.add(Dense(16, activation='relu'))\n",
    "model.add(Dropout(0.5))\n",
    "model.add(Activation('relu'))\n",
    "\n",
    "model.add(Dense(3, activation='softmax'))\n",
    "\n",
    "model.summary()\n"
   ]
  },
  {
   "cell_type": "code",
   "execution_count": 114,
   "id": "2eb9a6ed",
   "metadata": {},
   "outputs": [
    {
     "name": "stdout",
     "output_type": "stream",
     "text": [
      "Model: \"sequential_10\"\n",
      "_________________________________________________________________\n",
      " Layer (type)                Output Shape              Param #   \n",
      "=================================================================\n",
      " conv1d_40 (Conv1D)          (None, 2544, 64)          384       \n",
      "                                                                 \n",
      " conv1d_41 (Conv1D)          (None, 2540, 32)          10272     \n",
      "                                                                 \n",
      " conv1d_42 (Conv1D)          (None, 2536, 32)          5152      \n",
      "                                                                 \n",
      " batch_normalization_21 (Bat  (None, 2536, 32)         128       \n",
      " chNormalization)                                                \n",
      "                                                                 \n",
      " max_pooling1d_21 (MaxPoolin  (None, 1268, 32)         0         \n",
      " g1D)                                                            \n",
      "                                                                 \n",
      " conv1d_43 (Conv1D)          (None, 1266, 32)          3104      \n",
      "                                                                 \n",
      " conv1d_44 (Conv1D)          (None, 1264, 32)          3104      \n",
      "                                                                 \n",
      " conv1d_45 (Conv1D)          (None, 1262, 16)          1552      \n",
      "                                                                 \n",
      " batch_normalization_22 (Bat  (None, 1262, 16)         64        \n",
      " chNormalization)                                                \n",
      "                                                                 \n",
      " max_pooling1d_22 (MaxPoolin  (None, 631, 16)          0         \n",
      " g1D)                                                            \n",
      "                                                                 \n",
      " flatten_10 (Flatten)        (None, 10096)             0         \n",
      "                                                                 \n",
      " dense_29 (Dense)            (None, 32)                323104    \n",
      "                                                                 \n",
      " dropout_19 (Dropout)        (None, 32)                0         \n",
      "                                                                 \n",
      " activation_19 (Activation)  (None, 32)                0         \n",
      "                                                                 \n",
      " dense_30 (Dense)            (None, 16)                528       \n",
      "                                                                 \n",
      " dropout_20 (Dropout)        (None, 16)                0         \n",
      "                                                                 \n",
      " activation_20 (Activation)  (None, 16)                0         \n",
      "                                                                 \n",
      " dense_31 (Dense)            (None, 3)                 51        \n",
      "                                                                 \n",
      "=================================================================\n",
      "Total params: 347,443\n",
      "Trainable params: 347,347\n",
      "Non-trainable params: 96\n",
      "_________________________________________________________________\n"
     ]
    }
   ],
   "source": [
    "#try\n",
    "\n",
    "model = Sequential()\n",
    "input_shape=(X_train.shape[1], 1)\n",
    "\n",
    "model.add(Conv1D(64, kernel_size=5,activation='relu', input_shape=input_shape))\n",
    "model.add(Conv1D(32,kernel_size=5, activation='relu'))\n",
    "model.add(Conv1D(32,kernel_size=5, activation='relu'))\n",
    "model.add(BatchNormalization())\n",
    "model.add(MaxPooling1D())\n",
    "\n",
    "model.add(Conv1D(32, kernel_size=3,activation='relu'))\n",
    "model.add(Conv1D(32, kernel_size=3,activation='relu'))\n",
    "model.add(Conv1D(16,kernel_size=3, activation='relu'))\n",
    "model.add(BatchNormalization())\n",
    "model.add(MaxPooling1D())\n",
    "\n",
    "# model.add(Conv1D(64,kernel_size=5, activation='relu'))\n",
    "# model.add(BatchNormalization())\n",
    "# model.add(MaxPooling1D())\n",
    "\n",
    "# model.add(Conv1D(64,kernel_size=5, activation='relu'))\n",
    "# model.add(BatchNormalization())\n",
    "# model.add(MaxPooling1D())\n",
    "\n",
    "# model.add(Conv1D(64,kernel_size=5, activation='relu'))\n",
    "# model.add(BatchNormalization())\n",
    "# model.add(MaxPooling1D())\n",
    "\n",
    "# model.add(Conv1D(32,kernel_size=3, activation='relu'))\n",
    "# model.add(Conv1D(16,kernel_size=3, activation='relu'))\n",
    "# model.add(BatchNormalization())\n",
    "# model.add(MaxPooling1D())\n",
    "\n",
    "model.add(Flatten())\n",
    "\n",
    "model.add(Dense(32, activation='relu'))\n",
    "model.add(Dropout(0.5))\n",
    "model.add(Activation('relu'))\n",
    "\n",
    "model.add(Dense(16, activation='relu'))\n",
    "model.add(Dropout(0.5))\n",
    "model.add(Activation('relu'))\n",
    "\n",
    "model.add(Dense(3, activation='softmax'))\n",
    "\n",
    "model.summary()"
   ]
  },
  {
   "cell_type": "code",
   "execution_count": 22,
   "id": "d240a4a4",
   "metadata": {},
   "outputs": [],
   "source": [
    "model.compile(loss=keras.losses.categorical_crossentropy,\n",
    "              optimizer='adam',\n",
    "              metrics=['accuracy'])"
   ]
  },
  {
   "cell_type": "code",
   "execution_count": 23,
   "id": "9daf3f24",
   "metadata": {
    "scrolled": true
   },
   "outputs": [
    {
     "name": "stdout",
     "output_type": "stream",
     "text": [
      "Epoch 1/35\n",
      "26/26 [==============================] - 16s 581ms/step - loss: 1.1068 - accuracy: 0.4128 - val_loss: 0.9722 - val_accuracy: 0.5610\n",
      "Epoch 2/35\n",
      "26/26 [==============================] - 15s 575ms/step - loss: 0.9492 - accuracy: 0.5324 - val_loss: 0.7546 - val_accuracy: 0.6360\n",
      "Epoch 3/35\n",
      "26/26 [==============================] - 15s 572ms/step - loss: 0.8102 - accuracy: 0.6427 - val_loss: 0.6118 - val_accuracy: 0.8762\n",
      "Epoch 4/35\n",
      "26/26 [==============================] - 16s 623ms/step - loss: 0.7109 - accuracy: 0.6904 - val_loss: 0.4818 - val_accuracy: 0.8612\n",
      "Epoch 5/35\n",
      "26/26 [==============================] - 15s 589ms/step - loss: 0.6324 - accuracy: 0.7490 - val_loss: 0.3828 - val_accuracy: 0.8762\n",
      "Epoch 6/35\n",
      "26/26 [==============================] - 16s 624ms/step - loss: 0.5357 - accuracy: 0.7952 - val_loss: 0.3435 - val_accuracy: 0.8874\n",
      "Epoch 7/35\n",
      "26/26 [==============================] - 16s 594ms/step - loss: 0.5253 - accuracy: 0.7936 - val_loss: 0.3320 - val_accuracy: 0.8856\n",
      "Epoch 8/35\n",
      "26/26 [==============================] - 16s 604ms/step - loss: 0.4662 - accuracy: 0.8147 - val_loss: 0.3393 - val_accuracy: 0.8837\n",
      "Epoch 9/35\n",
      "26/26 [==============================] - 15s 592ms/step - loss: 0.4735 - accuracy: 0.8202 - val_loss: 0.3543 - val_accuracy: 0.8668\n",
      "Epoch 10/35\n",
      "26/26 [==============================] - 15s 583ms/step - loss: 0.4807 - accuracy: 0.8045 - val_loss: 0.3754 - val_accuracy: 0.8612\n",
      "Epoch 11/35\n",
      "26/26 [==============================] - 15s 584ms/step - loss: 0.4610 - accuracy: 0.8194 - val_loss: 0.2961 - val_accuracy: 0.8874\n",
      "Epoch 12/35\n",
      "26/26 [==============================] - 16s 599ms/step - loss: 0.4175 - accuracy: 0.8311 - val_loss: 0.2663 - val_accuracy: 0.8987\n",
      "Epoch 13/35\n",
      "26/26 [==============================] - 16s 616ms/step - loss: 0.4062 - accuracy: 0.8358 - val_loss: 0.2405 - val_accuracy: 0.9043\n",
      "Epoch 14/35\n",
      "26/26 [==============================] - 17s 642ms/step - loss: 0.3892 - accuracy: 0.8428 - val_loss: 0.2642 - val_accuracy: 0.8931\n",
      "Epoch 15/35\n",
      "26/26 [==============================] - 16s 617ms/step - loss: 0.3743 - accuracy: 0.8468 - val_loss: 0.2461 - val_accuracy: 0.9024\n",
      "Epoch 16/35\n",
      "26/26 [==============================] - 16s 618ms/step - loss: 0.3587 - accuracy: 0.8499 - val_loss: 0.2600 - val_accuracy: 0.8893\n",
      "Epoch 17/35\n",
      "26/26 [==============================] - 16s 621ms/step - loss: 0.3723 - accuracy: 0.8468 - val_loss: 0.2576 - val_accuracy: 0.8949\n",
      "Epoch 18/35\n",
      "26/26 [==============================] - 16s 611ms/step - loss: 0.3377 - accuracy: 0.8694 - val_loss: 0.2227 - val_accuracy: 0.9081\n",
      "Epoch 19/35\n",
      "26/26 [==============================] - 16s 627ms/step - loss: 0.3400 - accuracy: 0.8733 - val_loss: 0.2488 - val_accuracy: 0.9062\n",
      "Epoch 20/35\n",
      "26/26 [==============================] - 16s 604ms/step - loss: 0.3297 - accuracy: 0.8679 - val_loss: 0.2353 - val_accuracy: 0.9062\n",
      "Epoch 21/35\n",
      "26/26 [==============================] - 16s 601ms/step - loss: 0.3006 - accuracy: 0.8819 - val_loss: 0.2015 - val_accuracy: 0.9118\n",
      "Epoch 22/35\n",
      "26/26 [==============================] - 16s 605ms/step - loss: 0.2884 - accuracy: 0.8874 - val_loss: 0.1850 - val_accuracy: 0.9231\n",
      "Epoch 23/35\n",
      "26/26 [==============================] - 16s 603ms/step - loss: 0.2679 - accuracy: 0.8898 - val_loss: 0.1701 - val_accuracy: 0.9268\n",
      "Epoch 24/35\n",
      "26/26 [==============================] - 16s 603ms/step - loss: 0.2709 - accuracy: 0.8851 - val_loss: 0.1877 - val_accuracy: 0.9137\n",
      "Epoch 25/35\n",
      "26/26 [==============================] - 16s 609ms/step - loss: 0.2820 - accuracy: 0.8819 - val_loss: 0.2058 - val_accuracy: 0.9137\n",
      "Epoch 26/35\n",
      "26/26 [==============================] - 16s 603ms/step - loss: 0.2980 - accuracy: 0.8819 - val_loss: 0.2002 - val_accuracy: 0.9174\n",
      "Epoch 27/35\n",
      "26/26 [==============================] - 15s 596ms/step - loss: 0.2686 - accuracy: 0.8929 - val_loss: 0.1989 - val_accuracy: 0.9212\n",
      "Epoch 28/35\n",
      "26/26 [==============================] - 16s 606ms/step - loss: 0.2746 - accuracy: 0.8819 - val_loss: 0.2052 - val_accuracy: 0.9156\n",
      "Epoch 29/35\n",
      "26/26 [==============================] - 16s 603ms/step - loss: 0.2593 - accuracy: 0.8999 - val_loss: 0.2155 - val_accuracy: 0.9174\n",
      "Epoch 30/35\n",
      "26/26 [==============================] - 16s 627ms/step - loss: 0.2617 - accuracy: 0.8984 - val_loss: 0.1666 - val_accuracy: 0.9250\n",
      "Epoch 31/35\n",
      "26/26 [==============================] - 16s 606ms/step - loss: 0.2625 - accuracy: 0.8812 - val_loss: 0.1888 - val_accuracy: 0.9268\n",
      "Epoch 32/35\n",
      "26/26 [==============================] - 16s 600ms/step - loss: 0.2503 - accuracy: 0.9007 - val_loss: 0.1731 - val_accuracy: 0.9325\n",
      "Epoch 33/35\n",
      "26/26 [==============================] - 16s 601ms/step - loss: 0.2133 - accuracy: 0.9203 - val_loss: 0.1688 - val_accuracy: 0.9250\n",
      "Epoch 34/35\n",
      "26/26 [==============================] - 16s 605ms/step - loss: 0.2336 - accuracy: 0.9023 - val_loss: 0.1741 - val_accuracy: 0.9325\n",
      "Epoch 35/35\n",
      "26/26 [==============================] - 16s 599ms/step - loss: 0.2490 - accuracy: 0.9030 - val_loss: 0.1720 - val_accuracy: 0.9268\n"
     ]
    }
   ],
   "source": [
    "history=model.fit(X_train, y_train,\n",
    "          batch_size=50,\n",
    "          epochs=35,  \n",
    "          verbose=1,validation_data=(X_test,y_test))"
   ]
  },
  {
   "cell_type": "code",
   "execution_count": 24,
   "id": "a218aaab",
   "metadata": {
    "scrolled": false
   },
   "outputs": [
    {
     "name": "stdout",
     "output_type": "stream",
     "text": [
      "Train Accuracy: 93.667%\n"
     ]
    }
   ],
   "source": [
    "train_acc = model.evaluate(X_train, y_train, verbose=0)[1]\n",
    "print(\"Train Accuracy: {:.3f}%\".format(train_acc * 100))"
   ]
  },
  {
   "cell_type": "code",
   "execution_count": 25,
   "id": "7e559d1c",
   "metadata": {
    "scrolled": false
   },
   "outputs": [
    {
     "name": "stdout",
     "output_type": "stream",
     "text": [
      "Test Accuracy: 92.683%\n"
     ]
    }
   ],
   "source": [
    "test_acc = model.evaluate(X_test, y_test, verbose=0)[1]\n",
    "print(\"Test Accuracy: {:.3f}%\".format(test_acc * 100))"
   ]
  },
  {
   "cell_type": "code",
   "execution_count": 26,
   "id": "8fe8ab4a",
   "metadata": {
    "scrolled": false
   },
   "outputs": [
    {
     "name": "stdout",
     "output_type": "stream",
     "text": [
      "Validation Accuracy: 91.562%\n"
     ]
    }
   ],
   "source": [
    "val_acc = model.evaluate(X_val, y_val, verbose=0)[1]\n",
    "print(\"Validation Accuracy: {:.3f}%\".format(val_acc * 100))"
   ]
  },
  {
   "cell_type": "code",
   "execution_count": 27,
   "id": "dc8bd2b1",
   "metadata": {},
   "outputs": [
    {
     "data": {
      "image/png": "[encoded data removed]",
      "text/plain": [
       "<Figure size 432x288 with 1 Axes>"
      ]
     },
     "metadata": {
      "needs_background": "light"
     },
     "output_type": "display_data"
    }
   ],
   "source": [
    "\n",
    "plt.plot(history.history['accuracy'])\n",
    "\n",
    "plt.plot(history.history['val_accuracy'])\n",
    "\n",
    "plt.title('model accuracy')\n",
    "\n",
    "plt.ylabel('accuracy')\n",
    "\n",
    "plt.xlabel('epoch')\n",
    "\n",
    "plt.legend(['test', 'validation'], loc='upper left')\n",
    "\n",
    "plt.show()"
   ]
  },
  {
   "cell_type": "code",
   "execution_count": 28,
   "id": "f4f7d5a9",
   "metadata": {},
   "outputs": [],
   "source": [
    "y_pred=model.predict(X_test)"
   ]
  },
  {
   "cell_type": "code",
   "execution_count": 29,
   "id": "100289a7",
   "metadata": {
    "scrolled": true
   },
   "outputs": [
    {
     "data": {
      "text/plain": [
       "array([[3.8728210e-08, 9.9999857e-01, 1.4381409e-06],\n",
       "       [4.0583018e-08, 9.9999845e-01, 1.5181089e-06],\n",
       "       [9.2626613e-01, 6.8315735e-06, 7.3726967e-02],\n",
       "       ...,\n",
       "       [7.7870837e-08, 9.9999738e-01, 2.4731457e-06],\n",
       "       [7.6567936e-01, 1.6484928e-04, 2.3415574e-01],\n",
       "       [5.1027782e-06, 1.6676701e-04, 9.9982810e-01]], dtype=float32)"
      ]
     },
     "execution_count": 29,
     "metadata": {},
     "output_type": "execute_result"
    }
   ],
   "source": [
    "y_pred"
   ]
  },
  {
   "cell_type": "code",
   "execution_count": 30,
   "id": "fd55c6a7",
   "metadata": {
    "scrolled": true
   },
   "outputs": [
    {
     "data": {
      "text/plain": [
       "array([[0, 1, 0],\n",
       "       [0, 1, 0],\n",
       "       [1, 0, 0],\n",
       "       ...,\n",
       "       [0, 1, 0],\n",
       "       [1, 0, 0],\n",
       "       [0, 0, 1]], dtype=uint8)"
      ]
     },
     "execution_count": 30,
     "metadata": {},
     "output_type": "execute_result"
    }
   ],
   "source": [
    "y_test"
   ]
  },
  {
   "cell_type": "code",
   "execution_count": 31,
   "id": "d1c4802a",
   "metadata": {
    "scrolled": true
   },
   "outputs": [
    {
     "data": {
      "text/plain": [
       "array([0, 1, 0], dtype=uint8)"
      ]
     },
     "execution_count": 31,
     "metadata": {},
     "output_type": "execute_result"
    }
   ],
   "source": [
    "y_test[1]"
   ]
  },
  {
   "cell_type": "code",
   "execution_count": 32,
   "id": "598f86c9",
   "metadata": {
    "scrolled": true
   },
   "outputs": [
    {
     "data": {
      "text/plain": [
       "array([4.0583018e-08, 9.9999845e-01, 1.5181089e-06], dtype=float32)"
      ]
     },
     "execution_count": 32,
     "metadata": {},
     "output_type": "execute_result"
    }
   ],
   "source": [
    "y_pred[1]"
   ]
  },
  {
   "cell_type": "code",
   "execution_count": 33,
   "id": "327ff844",
   "metadata": {},
   "outputs": [],
   "source": [
    "y_test1=np.argmax(y_test, axis=1)"
   ]
  },
  {
   "cell_type": "code",
   "execution_count": 34,
   "id": "7569a178",
   "metadata": {
    "scrolled": true
   },
   "outputs": [
    {
     "data": {
      "text/plain": [
       "array([1, 1, 0, 0, 2, 1, 0, 2, 2, 0, 0, 0, 0, 2, 1, 1, 0, 0, 2, 2, 1, 1,\n",
       "       0, 0, 1, 2, 0, 1, 1, 1, 1, 1, 1, 1, 1, 1, 0, 1, 1, 2, 0, 1, 2, 1,\n",
       "       2, 1, 1, 2, 2, 0, 0, 0, 1, 0, 2, 0, 0, 1, 1, 1, 0, 1, 0, 1, 2, 0,\n",
       "       0, 0, 1, 2, 2, 1, 2, 2, 0, 0, 1, 1, 1, 1, 1, 1, 0, 1, 1, 1, 1, 0,\n",
       "       1, 2, 0, 0, 0, 2, 1, 0, 1, 0, 1, 0, 2, 2, 1, 2, 1, 2, 0, 0, 2, 2,\n",
       "       0, 2, 2, 1, 1, 0, 0, 2, 0, 2, 2, 2, 1, 0, 0, 0, 0, 0, 2, 0, 0, 0,\n",
       "       2, 1, 0, 0, 2, 2, 0, 2, 1, 0, 0, 2, 0, 1, 0, 1, 2, 1, 2, 1, 2, 0,\n",
       "       2, 1, 2, 2, 1, 1, 2, 0, 1, 2, 2, 2, 2, 1, 1, 1, 0, 1, 2, 1, 0, 0,\n",
       "       2, 1, 2, 1, 1, 1, 2, 2, 0, 1, 0, 1, 0, 1, 1, 2, 2, 0, 0, 1, 0, 1,\n",
       "       1, 0, 1, 2, 0, 1, 2, 0, 0, 2, 2, 1, 2, 1, 1, 0, 0, 1, 1, 0, 2, 0,\n",
       "       0, 2, 0, 1, 1, 2, 0, 1, 2, 1, 2, 1, 2, 2, 0, 0, 0, 0, 2, 1, 1, 1,\n",
       "       1, 0, 1, 1, 0, 1, 2, 2, 0, 1, 0, 0, 0, 0, 0, 2, 2, 2, 1, 1, 0, 1,\n",
       "       2, 2, 2, 0, 0, 1, 2, 0, 0, 1, 1, 2, 0, 1, 1, 0, 1, 2, 0, 1, 0, 2,\n",
       "       2, 0, 0, 2, 1, 0, 2, 1, 1, 0, 2, 2, 2, 1, 0, 2, 0, 1, 0, 1, 2, 2,\n",
       "       0, 1, 2, 1, 2, 0, 2, 2, 2, 1, 2, 2, 2, 2, 0, 2, 2, 0, 2, 2, 1, 2,\n",
       "       1, 0, 1, 2, 2, 0, 2, 1, 0, 2, 0, 1, 2, 2, 0, 0, 2, 0, 0, 1, 2, 2,\n",
       "       2, 0, 1, 0, 0, 1, 2, 0, 2, 1, 1, 2, 2, 1, 0, 2, 2, 2, 2, 2, 1, 0,\n",
       "       1, 2, 1, 1, 0, 0, 1, 0, 1, 2, 1, 2, 1, 2, 0, 0, 1, 2, 2, 0, 1, 0,\n",
       "       0, 2, 0, 1, 0, 0, 0, 1, 0, 0, 1, 0, 1, 2, 0, 2, 1, 2, 1, 1, 1, 0,\n",
       "       2, 1, 0, 2, 1, 1, 1, 0, 2, 2, 2, 2, 0, 0, 0, 2, 2, 1, 2, 0, 2, 2,\n",
       "       2, 1, 0, 1, 2, 2, 0, 2, 0, 1, 0, 0, 2, 0, 2, 2, 0, 1, 1, 1, 2, 0,\n",
       "       2, 2, 1, 1, 2, 1, 1, 2, 1, 1, 2, 2, 1, 0, 0, 2, 0, 2, 0, 2, 2, 2,\n",
       "       0, 2, 2, 2, 1, 1, 1, 0, 2, 1, 0, 2, 0, 1, 0, 1, 0, 0, 2, 0, 1, 0,\n",
       "       0, 2, 0, 1, 0, 1, 2, 2, 0, 0, 2, 2, 0, 0, 0, 1, 1, 1, 0, 1, 1, 1,\n",
       "       0, 2, 1, 0, 2], dtype=int64)"
      ]
     },
     "execution_count": 34,
     "metadata": {},
     "output_type": "execute_result"
    }
   ],
   "source": [
    "y_test1"
   ]
  },
  {
   "cell_type": "code",
   "execution_count": 35,
   "id": "ef9ccc25",
   "metadata": {},
   "outputs": [],
   "source": [
    "y_pred1=np.argmax(y_pred,axis=1)"
   ]
  },
  {
   "cell_type": "code",
   "execution_count": 36,
   "id": "57b824b2",
   "metadata": {},
   "outputs": [
    {
     "data": {
      "text/plain": [
       "array([1, 1, 0, 0, 2, 1, 0, 2, 0, 0, 0, 0, 0, 2, 1, 1, 0, 0, 2, 2, 1, 1,\n",
       "       0, 0, 1, 0, 0, 1, 1, 1, 1, 1, 1, 1, 1, 1, 0, 1, 1, 0, 0, 1, 2, 1,\n",
       "       2, 1, 1, 2, 2, 0, 0, 0, 1, 0, 2, 0, 0, 1, 1, 1, 0, 1, 0, 1, 2, 0,\n",
       "       0, 0, 1, 2, 0, 1, 2, 0, 0, 0, 1, 1, 1, 1, 1, 1, 0, 1, 1, 1, 1, 0,\n",
       "       1, 2, 0, 0, 0, 2, 1, 2, 1, 0, 1, 0, 2, 0, 1, 2, 1, 2, 0, 0, 2, 2,\n",
       "       0, 0, 2, 1, 1, 0, 0, 2, 0, 2, 2, 2, 1, 0, 0, 0, 0, 0, 2, 0, 0, 0,\n",
       "       2, 1, 0, 0, 2, 0, 0, 0, 1, 0, 0, 2, 0, 1, 0, 1, 2, 1, 2, 1, 2, 0,\n",
       "       0, 1, 0, 2, 1, 1, 2, 0, 1, 2, 2, 0, 2, 1, 1, 1, 0, 1, 2, 1, 0, 0,\n",
       "       2, 1, 0, 1, 1, 1, 1, 2, 0, 1, 0, 1, 0, 1, 1, 2, 2, 0, 0, 1, 0, 1,\n",
       "       1, 0, 1, 2, 2, 1, 0, 0, 0, 2, 2, 1, 2, 1, 1, 0, 0, 1, 1, 0, 2, 0,\n",
       "       0, 2, 0, 1, 1, 2, 0, 1, 2, 1, 0, 1, 2, 2, 0, 0, 0, 0, 0, 1, 1, 1,\n",
       "       1, 0, 1, 1, 0, 1, 2, 2, 0, 1, 0, 0, 0, 0, 0, 2, 2, 2, 1, 1, 0, 1,\n",
       "       2, 2, 2, 0, 0, 1, 0, 0, 0, 1, 1, 2, 0, 1, 1, 0, 1, 0, 0, 1, 0, 2,\n",
       "       2, 0, 0, 0, 1, 0, 2, 1, 1, 0, 2, 2, 2, 1, 0, 2, 0, 1, 0, 1, 2, 2,\n",
       "       0, 1, 2, 1, 2, 0, 2, 2, 2, 1, 2, 0, 2, 2, 0, 2, 2, 0, 2, 2, 1, 2,\n",
       "       1, 0, 1, 2, 2, 0, 0, 1, 0, 2, 0, 1, 2, 2, 0, 0, 2, 0, 0, 1, 2, 2,\n",
       "       2, 0, 1, 0, 0, 1, 0, 0, 2, 1, 1, 2, 2, 1, 0, 2, 0, 2, 0, 0, 1, 0,\n",
       "       1, 2, 1, 1, 0, 0, 1, 0, 1, 2, 1, 2, 1, 2, 0, 2, 1, 2, 2, 0, 1, 0,\n",
       "       0, 2, 0, 1, 0, 0, 0, 1, 0, 0, 1, 0, 1, 2, 0, 2, 1, 0, 2, 1, 1, 0,\n",
       "       2, 1, 0, 2, 1, 1, 1, 0, 2, 2, 2, 0, 0, 0, 0, 2, 0, 1, 2, 0, 2, 2,\n",
       "       2, 1, 0, 1, 0, 0, 0, 2, 2, 1, 0, 0, 2, 0, 2, 2, 0, 1, 1, 1, 2, 0,\n",
       "       2, 2, 1, 1, 2, 1, 1, 2, 1, 1, 2, 2, 1, 0, 0, 2, 0, 2, 2, 2, 2, 2,\n",
       "       0, 2, 2, 2, 1, 1, 1, 0, 2, 1, 0, 2, 2, 1, 0, 1, 0, 0, 0, 0, 1, 0,\n",
       "       0, 2, 0, 1, 0, 1, 2, 2, 0, 0, 2, 2, 0, 0, 0, 1, 1, 1, 0, 1, 1, 1,\n",
       "       0, 2, 1, 0, 2], dtype=int64)"
      ]
     },
     "execution_count": 36,
     "metadata": {},
     "output_type": "execute_result"
    }
   ],
   "source": [
    "y_pred1"
   ]
  },
  {
   "cell_type": "code",
   "execution_count": 37,
   "id": "4e392660",
   "metadata": {
    "scrolled": true
   },
   "outputs": [
    {
     "data": {
      "text/plain": [
       "0"
      ]
     },
     "execution_count": 37,
     "metadata": {},
     "output_type": "execute_result"
    }
   ],
   "source": [
    "y_test1[12]"
   ]
  },
  {
   "cell_type": "code",
   "execution_count": 38,
   "id": "81e9cf00",
   "metadata": {
    "scrolled": false
   },
   "outputs": [
    {
     "data": {
      "text/plain": [
       "0"
      ]
     },
     "execution_count": 38,
     "metadata": {},
     "output_type": "execute_result"
    }
   ],
   "source": [
    "y_pred1[12]"
   ]
  },
  {
   "cell_type": "code",
   "execution_count": 39,
   "id": "fe3782de",
   "metadata": {
    "scrolled": false
   },
   "outputs": [
    {
     "data": {
      "text/plain": [
       "array([[173,   0,   6],\n",
       "       [  0, 177,   1],\n",
       "       [ 31,   1, 144]], dtype=int64)"
      ]
     },
     "execution_count": 39,
     "metadata": {},
     "output_type": "execute_result"
    }
   ],
   "source": [
    "confusion_matrix(y_test1,y_pred1)"
   ]
  },
  {
   "cell_type": "code",
   "execution_count": 40,
   "id": "f132bee4",
   "metadata": {
    "scrolled": true
   },
   "outputs": [
    {
     "name": "stdout",
     "output_type": "stream",
     "text": [
      "classification_report\n",
      "               precision    recall  f1-score   support\n",
      "\n",
      "           0       0.85      0.97      0.90       179\n",
      "           1       0.99      0.99      0.99       178\n",
      "           2       0.95      0.82      0.88       176\n",
      "\n",
      "    accuracy                           0.93       533\n",
      "   macro avg       0.93      0.93      0.93       533\n",
      "weighted avg       0.93      0.93      0.93       533\n",
      "\n"
     ]
    }
   ],
   "source": [
    "print(\"classification_report\\n\",classification_report(y_test1,y_pred1))"
   ]
  },
  {
   "cell_type": "code",
   "execution_count": 41,
   "id": "4eb98729",
   "metadata": {},
   "outputs": [],
   "source": [
    "from sklearn import metrics\n",
    "auc = metrics.roc_auc_score(y_test,y_pred,multi_class='ovo')"
   ]
  },
  {
   "cell_type": "code",
   "execution_count": 42,
   "id": "a3b800d4",
   "metadata": {
    "scrolled": true
   },
   "outputs": [
    {
     "data": {
      "text/plain": [
       "0.9855037491930064"
      ]
     },
     "execution_count": 42,
     "metadata": {},
     "output_type": "execute_result"
    }
   ],
   "source": [
    "auc"
   ]
  },
  {
   "cell_type": "code",
   "execution_count": 43,
   "id": "0d8e6f83",
   "metadata": {},
   "outputs": [],
   "source": [
    "df_test = pd.DataFrame(y_test, columns = ['label_NEGATIVE','label_NEUTRAL','label_POSITIVE'])"
   ]
  },
  {
   "cell_type": "code",
   "execution_count": 44,
   "id": "06bd5fe5",
   "metadata": {},
   "outputs": [],
   "source": [
    "df_pred = pd.DataFrame(y_pred, columns = ['label_NEGATIVE','label_NEUTRAL','label_POSITIVE'])"
   ]
  },
  {
   "cell_type": "code",
   "execution_count": 45,
   "id": "bcf21967",
   "metadata": {},
   "outputs": [],
   "source": [
    "false_positive_rate, true_positive_rate, thresolds = metrics.roc_curve(df_test['label_NEGATIVE'], df_pred['label_NEGATIVE'])"
   ]
  },
  {
   "cell_type": "code",
   "execution_count": 46,
   "id": "38dbc09d",
   "metadata": {},
   "outputs": [
    {
     "data": {
      "image/png": "[encoded data removed]",
      "text/plain": [
       "<Figure size 1000x800 with 1 Axes>"
      ]
     },
     "metadata": {
      "needs_background": "light"
     },
     "output_type": "display_data"
    }
   ],
   "source": [
    "plt.figure(figsize=(10, 8), dpi=100)\n",
    "plt.axis('scaled')\n",
    "plt.xlim([0, 1])\n",
    "plt.ylim([0, 1])\n",
    "plt.title(\"AUC & ROC Curve\")\n",
    "plt.plot(false_positive_rate, true_positive_rate, 'g')\n",
    "plt.fill_between(false_positive_rate, true_positive_rate, facecolor='lightgreen', alpha=0.7)\n",
    "plt.text(0.95, 0.05, 'AUC = %0.4f' % auc, ha='right', fontsize=12, weight='bold', color='blue')\n",
    "plt.xlabel(\"False Positive Rate\")\n",
    "plt.ylabel(\"True Positive Rate\")\n",
    "plt.show()\n"
   ]
  },
  {
   "cell_type": "code",
   "execution_count": 47,
   "id": "9ce84042",
   "metadata": {},
   "outputs": [
    {
     "data": {
      "image/png": "[encoded data removed]",
      "text/plain": [
       "<Figure size 1000x800 with 1 Axes>"
      ]
     },
     "metadata": {
      "needs_background": "light"
     },
     "output_type": "display_data"
    }
   ],
   "source": [
    "false_positive_rate, true_positive_rate, thresolds = metrics.roc_curve(df_test['label_NEUTRAL'], df_pred['label_NEUTRAL'])\n",
    "plt.figure(figsize=(10, 8), dpi=100)\n",
    "plt.axis('scaled')\n",
    "plt.xlim([0, 1])\n",
    "plt.ylim([0, 1])\n",
    "plt.title(\"AUC & ROC Curve\")\n",
    "plt.plot(false_positive_rate, true_positive_rate, 'g')\n",
    "plt.fill_between(false_positive_rate, true_positive_rate, facecolor='lightgreen', alpha=0.7)\n",
    "plt.text(0.95, 0.05, 'AUC = %0.4f' % auc, ha='right', fontsize=12, weight='bold', color='blue')\n",
    "plt.xlabel(\"False Positive Rate\")\n",
    "plt.ylabel(\"True Positive Rate\")\n",
    "plt.show()"
   ]
  },
  {
   "cell_type": "code",
   "execution_count": 48,
   "id": "72c584e4",
   "metadata": {},
   "outputs": [
    {
     "data": {
      "image/png": "[encoded data removed]",
      "text/plain": [
       "<Figure size 1000x800 with 1 Axes>"
      ]
     },
     "metadata": {
      "needs_background": "light"
     },
     "output_type": "display_data"
    }
   ],
   "source": [
    "false_positive_rate, true_positive_rate, thresolds = metrics.roc_curve(df_test['label_POSITIVE'], df_pred['label_POSITIVE'])\n",
    "plt.figure(figsize=(10, 8), dpi=100)\n",
    "plt.axis('scaled')\n",
    "plt.xlim([0, 1])\n",
    "plt.ylim([0, 1])\n",
    "plt.title(\"AUC & ROC Curve\")\n",
    "plt.plot(false_positive_rate, true_positive_rate, 'g')\n",
    "plt.fill_between(false_positive_rate, true_positive_rate, facecolor='lightgreen', alpha=0.7)\n",
    "plt.text(0.95, 0.05, 'AUC = %0.4f' % auc, ha='right', fontsize=12, weight='bold', color='blue')\n",
    "plt.xlabel(\"False Positive Rate\")\n",
    "plt.ylabel(\"True Positive Rate\")\n",
    "plt.show()"
   ]
  },
  {
   "cell_type": "code",
   "execution_count": null,
   "id": "8aa0d3e0",
   "metadata": {},
   "outputs": [],
   "source": []
  }
 ],
 "metadata": {
  "kernelspec": {
   "display_name": "Python 3 (ipykernel)",
   "language": "python",
   "name": "python3"
  },
  "language_info": {
   "codemirror_mode": {
    "name": "ipython",
    "version": 3
   },
   "file_extension": ".py",
   "mimetype": "text/x-python",
   "name": "python",
   "nbconvert_exporter": "python",
   "pygments_lexer": "ipython3",
   "version": "3.9.7"
  }
 },
 "nbformat": 4,
 "nbformat_minor": 5
}
